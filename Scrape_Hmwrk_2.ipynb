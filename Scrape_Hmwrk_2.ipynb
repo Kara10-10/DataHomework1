{
  "nbformat": 4,
  "nbformat_minor": 0,
  "metadata": {
    "colab": {
      "provenance": []
    },
    "kernelspec": {
      "name": "python3",
      "display_name": "Python 3"
    },
    "language_info": {
      "name": "python"
    }
  },
  "cells": [
    {
      "cell_type": "code",
      "execution_count": 1,
      "metadata": {
        "id": "QEyvI5ysd2UV"
      },
      "outputs": [],
      "source": [
        "from bs4 import BeautifulSoup\n",
        "import requests"
      ]
    },
    {
      "cell_type": "markdown",
      "source": [
        "# **This is the first part, here I was trying to complete the task on one page, if something was true, I was creating a method for keeping the algorythm**"
      ],
      "metadata": {
        "id": "HdbfCqZW9zzx"
      }
    },
    {
      "cell_type": "code",
      "source": [
        "respons = requests.get(\"https://quotes.toscrape.com/tag/love/\")"
      ],
      "metadata": {
        "id": "er4Yvifad8Dx"
      },
      "execution_count": 2,
      "outputs": []
    },
    {
      "cell_type": "code",
      "source": [
        "soup = BeautifulSoup(respons.content, parser = \"html.parser\")"
      ],
      "metadata": {
        "id": "ABxcquMMeM1p"
      },
      "execution_count": 3,
      "outputs": []
    },
    {
      "cell_type": "code",
      "source": [
        "loveContainer = soup.find(\"div\", class_ = \"col-md-8\")"
      ],
      "metadata": {
        "id": "ns_CDkT_eO65"
      },
      "execution_count": 4,
      "outputs": []
    },
    {
      "cell_type": "code",
      "source": [
        "loveContainer"
      ],
      "metadata": {
        "colab": {
          "base_uri": "https://localhost:8080/"
        },
        "id": "ULysVUk3emM1",
        "outputId": "ea9c9e48-95e2-4d44-8788-b9837f72e7e2"
      },
      "execution_count": 5,
      "outputs": [
        {
          "output_type": "execute_result",
          "data": {
            "text/plain": [
              "<div class=\"col-md-8\">\n",
              "<h1>\n",
              "<a href=\"/\" style=\"text-decoration: none\">Quotes to Scrape</a>\n",
              "</h1>\n",
              "</div>"
            ]
          },
          "metadata": {},
          "execution_count": 5
        }
      ]
    },
    {
      "cell_type": "code",
      "source": [
        "print(loveContainer.find(\"span\", class_= \"text\"))"
      ],
      "metadata": {
        "colab": {
          "base_uri": "https://localhost:8080/"
        },
        "id": "8NVqOR8kexj2",
        "outputId": "01573578-e0d7-4e71-d703-5879d5a60aef"
      },
      "execution_count": 6,
      "outputs": [
        {
          "output_type": "stream",
          "name": "stdout",
          "text": [
            "None\n"
          ]
        }
      ]
    },
    {
      "cell_type": "code",
      "source": [
        "print(loveContainer.find(\"div\", class_= \"quote\"))"
      ],
      "metadata": {
        "colab": {
          "base_uri": "https://localhost:8080/"
        },
        "id": "abbh9i7BfPwn",
        "outputId": "84362fab-3a74-4253-9d63-6dc841408a97"
      },
      "execution_count": 7,
      "outputs": [
        {
          "output_type": "stream",
          "name": "stdout",
          "text": [
            "None\n"
          ]
        }
      ]
    },
    {
      "cell_type": "code",
      "source": [
        "loveTexts = soup.find_all(\"span\", class_= \"text\")"
      ],
      "metadata": {
        "id": "-gghCwurgZkw"
      },
      "execution_count": 8,
      "outputs": []
    },
    {
      "cell_type": "code",
      "source": [
        "loveTexts"
      ],
      "metadata": {
        "colab": {
          "base_uri": "https://localhost:8080/"
        },
        "id": "_sKoapjggc7Z",
        "outputId": "e2847a6c-fd38-4c86-b5b4-761969ea694d"
      },
      "execution_count": 9,
      "outputs": [
        {
          "output_type": "execute_result",
          "data": {
            "text/plain": [
              "[<span class=\"text\" itemprop=\"text\">“It is better to be hated for what you are than to be loved for what you are not.”</span>,\n",
              " <span class=\"text\" itemprop=\"text\">“This life is what you make it. No matter what, you're going to mess up sometimes, it's a universal truth. But the good part is you get to decide how you're going to mess it up. Girls will be your friends - they'll act like it anyway. But just remember, some come, some go. The ones that stay with you through everything - they're your true best friends. Don't let go of them. Also remember, sisters make the best friends in the world. As for lovers, well, they'll come and go too. And baby, I hate to say it, most of them - actually pretty much all of them are going to break your heart, but you can't give up because if you give up, you'll never find your soulmate. You'll never find that half who makes you whole and that goes for everything. Just because you fail once, doesn't mean you're gonna fail at everything. Keep trying, hold on, and always, always, always believe in yourself, because if you don't, then who will, sweetie? So keep your head high, keep your chin up, and most importantly, keep smiling, because life's a beautiful thing and there's so much to smile about.”</span>,\n",
              " <span class=\"text\" itemprop=\"text\">“You may not be her first, her last, or her only. She loved before she may love again. But if she loves you now, what else matters? She's not perfect—you aren't either, and the two of you may never be perfect together but if she can make you laugh, cause you to think twice, and admit to being human and making mistakes, hold onto her and give her the most you can. She may not be thinking about you every second of the day, but she will give you a part of her that she knows you can break—her heart. So don't hurt her, don't change her, don't analyze and don't expect more than she can give. Smile when she makes you happy, let her know when she makes you mad, and miss her when she's not there.”</span>,\n",
              " <span class=\"text\" itemprop=\"text\">“The opposite of love is not hate, it's indifference. The opposite of art is not ugliness, it's indifference. The opposite of faith is not heresy, it's indifference. And the opposite of life is not death, it's indifference.”</span>,\n",
              " <span class=\"text\" itemprop=\"text\">“It is not a lack of love, but a lack of friendship that makes unhappy marriages.”</span>,\n",
              " <span class=\"text\" itemprop=\"text\">“I love you without knowing how, or when, or from where. I love you simply, without problems or pride: I love you in this way because I do not know any other way of loving but this, in which there is no I or you, so intimate that your hand upon my chest is my hand, so intimate that when I fall asleep your eyes close.”</span>,\n",
              " <span class=\"text\" itemprop=\"text\">“If you can make a woman laugh, you can make her do anything.”</span>,\n",
              " <span class=\"text\" itemprop=\"text\">“The real lover is the man who can thrill you by kissing your forehead or smiling into your eyes or just staring into space.”</span>,\n",
              " <span class=\"text\" itemprop=\"text\">“Love does not begin and end the way we seem to think it does. Love is a battle, love is a war; love is a growing up.”</span>,\n",
              " <span class=\"text\" itemprop=\"text\">“There is nothing I would not do for those who are really my friends. I have no notion of loving people by halves, it is not my nature.”</span>]"
            ]
          },
          "metadata": {},
          "execution_count": 9
        }
      ]
    },
    {
      "cell_type": "code",
      "source": [
        "loveQuotes = []"
      ],
      "metadata": {
        "id": "4IrGuyQTgxUg"
      },
      "execution_count": 10,
      "outputs": []
    },
    {
      "cell_type": "code",
      "source": [
        "for i in loveTexts:\n",
        "  loveQuotes.append(i.text)"
      ],
      "metadata": {
        "id": "bHMO3xRDg4jE"
      },
      "execution_count": 11,
      "outputs": []
    },
    {
      "cell_type": "code",
      "source": [
        "loveQuotes"
      ],
      "metadata": {
        "colab": {
          "base_uri": "https://localhost:8080/"
        },
        "id": "khxgtAL8hAHH",
        "outputId": "34b6bcc2-2723-436e-e72d-43b98574ecfd"
      },
      "execution_count": 12,
      "outputs": [
        {
          "output_type": "execute_result",
          "data": {
            "text/plain": [
              "['“It is better to be hated for what you are than to be loved for what you are not.”',\n",
              " \"“This life is what you make it. No matter what, you're going to mess up sometimes, it's a universal truth. But the good part is you get to decide how you're going to mess it up. Girls will be your friends - they'll act like it anyway. But just remember, some come, some go. The ones that stay with you through everything - they're your true best friends. Don't let go of them. Also remember, sisters make the best friends in the world. As for lovers, well, they'll come and go too. And baby, I hate to say it, most of them - actually pretty much all of them are going to break your heart, but you can't give up because if you give up, you'll never find your soulmate. You'll never find that half who makes you whole and that goes for everything. Just because you fail once, doesn't mean you're gonna fail at everything. Keep trying, hold on, and always, always, always believe in yourself, because if you don't, then who will, sweetie? So keep your head high, keep your chin up, and most importantly, keep smiling, because life's a beautiful thing and there's so much to smile about.”\",\n",
              " \"“You may not be her first, her last, or her only. She loved before she may love again. But if she loves you now, what else matters? She's not perfect—you aren't either, and the two of you may never be perfect together but if she can make you laugh, cause you to think twice, and admit to being human and making mistakes, hold onto her and give her the most you can. She may not be thinking about you every second of the day, but she will give you a part of her that she knows you can break—her heart. So don't hurt her, don't change her, don't analyze and don't expect more than she can give. Smile when she makes you happy, let her know when she makes you mad, and miss her when she's not there.”\",\n",
              " \"“The opposite of love is not hate, it's indifference. The opposite of art is not ugliness, it's indifference. The opposite of faith is not heresy, it's indifference. And the opposite of life is not death, it's indifference.”\",\n",
              " '“It is not a lack of love, but a lack of friendship that makes unhappy marriages.”',\n",
              " '“I love you without knowing how, or when, or from where. I love you simply, without problems or pride: I love you in this way because I do not know any other way of loving but this, in which there is no I or you, so intimate that your hand upon my chest is my hand, so intimate that when I fall asleep your eyes close.”',\n",
              " '“If you can make a woman laugh, you can make her do anything.”',\n",
              " '“The real lover is the man who can thrill you by kissing your forehead or smiling into your eyes or just staring into space.”',\n",
              " '“Love does not begin and end the way we seem to think it does. Love is a battle, love is a war; love is a growing up.”',\n",
              " '“There is nothing I would not do for those who are really my friends. I have no notion of loving people by halves, it is not my nature.”']"
            ]
          },
          "metadata": {},
          "execution_count": 12
        }
      ]
    },
    {
      "cell_type": "code",
      "source": [
        "quote_div = soup.find('div', class_='quote')\n",
        "href_link = quote_div.find('a')['href']"
      ],
      "metadata": {
        "id": "AiBE581WiNxu"
      },
      "execution_count": 13,
      "outputs": []
    },
    {
      "cell_type": "code",
      "source": [
        "href_link"
      ],
      "metadata": {
        "colab": {
          "base_uri": "https://localhost:8080/",
          "height": 36
        },
        "id": "46KXZlXLpIsI",
        "outputId": "d3c641ff-4be7-44bb-b16d-6888e8c6a0e8"
      },
      "execution_count": 14,
      "outputs": [
        {
          "output_type": "execute_result",
          "data": {
            "text/plain": [
              "'/author/Andre-Gide'"
            ],
            "application/vnd.google.colaboratory.intrinsic+json": {
              "type": "string"
            }
          },
          "metadata": {},
          "execution_count": 14
        }
      ]
    },
    {
      "cell_type": "code",
      "source": [
        "links = []\n",
        "for quote_div in soup.find_all('div', class_='quote'):\n",
        "    author_link = quote_div.find('a')['href']\n",
        "    links.append(author_link)\n",
        "\n",
        "links"
      ],
      "metadata": {
        "colab": {
          "base_uri": "https://localhost:8080/"
        },
        "id": "-4oANdd_pKV9",
        "outputId": "5c0b4d91-72bb-4fe5-b532-60ee72641b87"
      },
      "execution_count": 15,
      "outputs": [
        {
          "output_type": "execute_result",
          "data": {
            "text/plain": [
              "['/author/Andre-Gide',\n",
              " '/author/Marilyn-Monroe',\n",
              " '/author/Bob-Marley',\n",
              " '/author/Elie-Wiesel',\n",
              " '/author/Friedrich-Nietzsche',\n",
              " '/author/Pablo-Neruda',\n",
              " '/author/Marilyn-Monroe',\n",
              " '/author/Marilyn-Monroe',\n",
              " '/author/James-Baldwin',\n",
              " '/author/Jane-Austen']"
            ]
          },
          "metadata": {},
          "execution_count": 15
        }
      ]
    },
    {
      "cell_type": "markdown",
      "source": [
        "# **The First method, which will take all Author links from all quotes**\n",
        "\n",
        "\n"
      ],
      "metadata": {
        "id": "Tco5qnLQ-Smq"
      }
    },
    {
      "cell_type": "code",
      "source": [
        "def GenerateLinkList(s, l):   # s- soup, l - links\n",
        "  for quote_div in s.find_all('div', class_='quote'):\n",
        "    author_link = quote_div.find('a')['href']\n",
        "    l.append(author_link)"
      ],
      "metadata": {
        "id": "KVW1gcNt3YO-"
      },
      "execution_count": 16,
      "outputs": []
    },
    {
      "cell_type": "markdown",
      "source": [
        "Test for a single example"
      ],
      "metadata": {
        "id": "y8CeojUCvJtA"
      }
    },
    {
      "cell_type": "code",
      "source": [
        "newlinkT = \"https://quotes.toscrape.com\" + links[0]"
      ],
      "metadata": {
        "id": "kTGCTTDmrrIh"
      },
      "execution_count": 17,
      "outputs": []
    },
    {
      "cell_type": "code",
      "source": [
        "responsT = requests.get(newlinkT)"
      ],
      "metadata": {
        "id": "-CDbZ11zr37D"
      },
      "execution_count": 18,
      "outputs": []
    },
    {
      "cell_type": "code",
      "source": [
        "soupT = BeautifulSoup(responsT.content, parser = \"html.parser\")\n",
        "soupT"
      ],
      "metadata": {
        "colab": {
          "base_uri": "https://localhost:8080/"
        },
        "id": "fSTOqZtBsAOi",
        "outputId": "efcd8417-0fb0-4e42-8e7a-ea718b2c5d43"
      },
      "execution_count": 19,
      "outputs": [
        {
          "output_type": "execute_result",
          "data": {
            "text/plain": [
              "<!DOCTYPE html>\n",
              "<html lang=\"en\">\n",
              "<head>\n",
              "<meta charset=\"utf-8\"/>\n",
              "<title>Quotes to Scrape</title>\n",
              "<link href=\"/static/bootstrap.min.css\" rel=\"stylesheet\"/>\n",
              "<link href=\"/static/main.css\" rel=\"stylesheet\"/>\n",
              "</head>\n",
              "<body>\n",
              "<div class=\"container\">\n",
              "<div class=\"row header-box\">\n",
              "<div class=\"col-md-8\">\n",
              "<h1>\n",
              "<a href=\"/\" style=\"text-decoration: none\">Quotes to Scrape</a>\n",
              "</h1>\n",
              "</div>\n",
              "<div class=\"col-md-4\">\n",
              "<p>\n",
              "<a href=\"/login\">Login</a>\n",
              "</p>\n",
              "</div>\n",
              "</div>\n",
              "<div class=\"author-details\">\n",
              "<h3 class=\"author-title\">André Gide</h3>\n",
              "<p><strong>Born:</strong> <span class=\"author-born-date\">November 22, 1869</span> <span class=\"author-born-location\">in Paris, France</span></p>\n",
              "<p><strong>Description:</strong></p>\n",
              "<div class=\"author-description\">\n",
              "        André Paul Guillaume Gide was a French author and winner of the Nobel Prize in literature in 1947. Gide's career ranged from its beginnings in the symbolist movement, to the advent of anticolonialism between the two World Wars.Known for his fiction as well as his autobiographical works, Gide exposes to public view the conflict and eventual reconciliation between the two sides of his personality, split apart by a straight-laced education and a narrow social moralism. Gide's work can be seen as an investigation of freedom and empowerment in the face of moralistic and puritan constraints, and gravitates around his continuous effort to achieve intellectual honesty. His self-exploratory texts reflect his search of how to be fully oneself, even to the point of owning one's sexual nature, without at the same time betraying one's values. His political activity is informed by the same ethos, as suggested by his repudiation of communism after his 1936 voyage to the USSR.    \n",
              "    </div>\n",
              "</div>\n",
              "</div>\n",
              "<footer class=\"footer\">\n",
              "<div class=\"container\">\n",
              "<p class=\"text-muted\">\n",
              "                Quotes by: <a href=\"https://www.goodreads.com/quotes\">GoodReads.com</a>\n",
              "</p>\n",
              "<p class=\"copyright\">\n",
              "                Made with <span class=\"zyte\">❤</span> by <a class=\"zyte\" href=\"https://www.zyte.com\">Zyte</a>\n",
              "</p>\n",
              "</div>\n",
              "</footer>\n",
              "</body>\n",
              "</html>"
            ]
          },
          "metadata": {},
          "execution_count": 19
        }
      ]
    },
    {
      "cell_type": "code",
      "source": [
        "nameT = soupT.find(\"h3\", class_=\"author-title\")"
      ],
      "metadata": {
        "id": "cYzzz1E-sGyb"
      },
      "execution_count": 20,
      "outputs": []
    },
    {
      "cell_type": "code",
      "source": [
        "print(nameT.text)"
      ],
      "metadata": {
        "colab": {
          "base_uri": "https://localhost:8080/"
        },
        "id": "06L7cAGgsaOg",
        "outputId": "3e857843-e33b-4ac4-b9ee-b108eb45b74d"
      },
      "execution_count": 21,
      "outputs": [
        {
          "output_type": "stream",
          "name": "stdout",
          "text": [
            "André Gide\n"
          ]
        }
      ]
    },
    {
      "cell_type": "code",
      "source": [
        "bornT = soupT.find(\"span\", class_=\"author-born-date\")"
      ],
      "metadata": {
        "id": "W9p04cTrtNNg"
      },
      "execution_count": 22,
      "outputs": []
    },
    {
      "cell_type": "code",
      "source": [
        "print(bornT.text)"
      ],
      "metadata": {
        "colab": {
          "base_uri": "https://localhost:8080/"
        },
        "id": "DFneKQEsuToh",
        "outputId": "e6b3c0aa-3a09-4b36-cbf0-b0e018e7cc1e"
      },
      "execution_count": 23,
      "outputs": [
        {
          "output_type": "stream",
          "name": "stdout",
          "text": [
            "November 22, 1869\n"
          ]
        }
      ]
    },
    {
      "cell_type": "code",
      "source": [
        "CityT = soupT.find(\"span\", class_=\"author-born-location\")"
      ],
      "metadata": {
        "id": "ogc70UUxuWyM"
      },
      "execution_count": 24,
      "outputs": []
    },
    {
      "cell_type": "code",
      "source": [
        "print(CityT.text)"
      ],
      "metadata": {
        "colab": {
          "base_uri": "https://localhost:8080/"
        },
        "id": "lexqHjFiufm1",
        "outputId": "4e0fffe0-5679-40ec-fd23-00d5ca9fb498"
      },
      "execution_count": 25,
      "outputs": [
        {
          "output_type": "stream",
          "name": "stdout",
          "text": [
            "in Paris, France\n"
          ]
        }
      ]
    },
    {
      "cell_type": "code",
      "source": [
        "descrT = soupT.find(\"div\", class_=\"author-description\")"
      ],
      "metadata": {
        "id": "HDKybGBkuhe9"
      },
      "execution_count": 26,
      "outputs": []
    },
    {
      "cell_type": "code",
      "source": [
        "print(descrT.text.strip())"
      ],
      "metadata": {
        "colab": {
          "base_uri": "https://localhost:8080/"
        },
        "id": "C1lWw1sJuzVi",
        "outputId": "ebb4ecbb-db0c-4bbe-88b0-2935ad457bb5"
      },
      "execution_count": 27,
      "outputs": [
        {
          "output_type": "stream",
          "name": "stdout",
          "text": [
            "André Paul Guillaume Gide was a French author and winner of the Nobel Prize in literature in 1947. Gide's career ranged from its beginnings in the symbolist movement, to the advent of anticolonialism between the two World Wars.Known for his fiction as well as his autobiographical works, Gide exposes to public view the conflict and eventual reconciliation between the two sides of his personality, split apart by a straight-laced education and a narrow social moralism. Gide's work can be seen as an investigation of freedom and empowerment in the face of moralistic and puritan constraints, and gravitates around his continuous effort to achieve intellectual honesty. His self-exploratory texts reflect his search of how to be fully oneself, even to the point of owning one's sexual nature, without at the same time betraying one's values. His political activity is informed by the same ethos, as suggested by his repudiation of communism after his 1936 voyage to the USSR.\n"
          ]
        }
      ]
    },
    {
      "cell_type": "markdown",
      "source": [
        "Apply"
      ],
      "metadata": {
        "id": "o6kLlFKIvQDk"
      }
    },
    {
      "cell_type": "code",
      "source": [
        "names = []\n",
        "bornandcity = []\n",
        "descr = []"
      ],
      "metadata": {
        "id": "ZqhsNlWav3LB"
      },
      "execution_count": 28,
      "outputs": []
    },
    {
      "cell_type": "code",
      "source": [
        "for i in links:\n",
        "  newResponse = requests.get(\"https://quotes.toscrape.com\" + i)\n",
        "  newSoup = BeautifulSoup(newResponse.content, parser = \"html.parser\")\n",
        "  names.append(newSoup.find(\"h3\", class_=\"author-title\").text)\n",
        "  bornInfo = newSoup.find(\"span\", class_=\"author-born-date\").text + \" \" + newSoup.find(\"span\", class_=\"author-born-location\").text\n",
        "  bornandcity.append(bornInfo)\n",
        "  descr.append(newSoup.find(\"div\", class_=\"author-description\").text.strip())\n",
        "\n",
        "\n",
        "names\n",
        "bornandcity\n",
        "descr"
      ],
      "metadata": {
        "colab": {
          "base_uri": "https://localhost:8080/"
        },
        "collapsed": true,
        "id": "Ho9GvlfzxGM0",
        "outputId": "29ccb1a0-f645-42c0-816c-633215c175ea"
      },
      "execution_count": 29,
      "outputs": [
        {
          "output_type": "execute_result",
          "data": {
            "text/plain": [
              "[\"André Paul Guillaume Gide was a French author and winner of the Nobel Prize in literature in 1947. Gide's career ranged from its beginnings in the symbolist movement, to the advent of anticolonialism between the two World Wars.Known for his fiction as well as his autobiographical works, Gide exposes to public view the conflict and eventual reconciliation between the two sides of his personality, split apart by a straight-laced education and a narrow social moralism. Gide's work can be seen as an investigation of freedom and empowerment in the face of moralistic and puritan constraints, and gravitates around his continuous effort to achieve intellectual honesty. His self-exploratory texts reflect his search of how to be fully oneself, even to the point of owning one's sexual nature, without at the same time betraying one's values. His political activity is informed by the same ethos, as suggested by his repudiation of communism after his 1936 voyage to the USSR.\",\n",
              " 'Marilyn Monroe (born Norma Jeane Mortenson; June 1, 1926 – August 5, 1962) was an American actress, model, and singer, who became a major sex symbol, starring in a number of commercially successful motion pictures during the 1950s and early 1960s.After spending much of her childhood in foster homes, Monroe began a career as a model, which led to a film contract in 1946 with Twentieth Century-Fox. Her early film appearances were minor, but her performances in The Asphalt Jungle and All About Eve (both 1950), drew attention. By 1952 she had her first leading role in Don\\'t Bother to Knock and 1953 brought a lead in Niagara, a melodramatic film noir that dwelt on her seductiveness. Her \"dumb blonde\" persona was used to comic effect in subsequent films such as Gentlemen Prefer Blondes (1953), How to Marry a Millionaire (1953) and The Seven Year Itch (1955). Limited by typecasting, Monroe studied at the Actors Studio to broaden her range. Her dramatic performance in Bus Stop (1956) was hailed by critics and garnered a Golden Globe nomination. Her production company, Marilyn Monroe Productions, released The Prince and the Showgirl (1957), for which she received a BAFTA Award nomination and won a David di Donatello award. She received a Golden Globe Award for her performance in Some Like It Hot (1959). Monroe\\'s last completed film was The Misfits, co-starring Clark Gable with screenplay by her then-husband, Arthur Miller.Marilyn was a passionate reader, owning four hundred books at the time of her death, and was often photographed with a book.The final years of Monroe\\'s life were marked by illness, personal problems, and a reputation for unreliability and being difficult to work with. The circumstances of her death, from an overdose of barbiturates, have been the subject of conjecture. Though officially classified as a \"probable suicide\", the possibility of an accidental overdose, as well as of homicide, have not been ruled out. In 1999, Monroe was ranked as the sixth greatest female star of all time by the American Film Institute. In the decades following her death, she has often been cited as both a pop and a cultural icon as well as the quintessential American sex symbol.',\n",
              " 'Robert \"Bob\" Nesta Marley OM was a Jamaican singer, songwriter, guitarist, and activist. He was the frontman, lead singer, songwriter and guitarist for the ska, rocksteady and reggae bands: The Wailers (1964 – 1974) and Bob Marley & the Wailers (1974 - 1981). He is the most widely known performer of ska/reggae music, and is often credited for helping spread Jamaican music to the worldwide audience.Marley\\'s best known hits includes \"I Shot the Sheriff\", \"No Woman, No Cry\", \"Exodus\", \"Could You Be Loved\", \"Stir It Up\", \"Jamming\", \"Redemption Song\", and \"One Love\", as well as the posthumous releases \"Buffalo Soldier\" och \"Iron Lion Zion\". The compilation album, Legend, released in 1984, three years after Marley\\'s death, is the best-selling reggae album ever (10 times platinum), with sales of more than 12 million copies.',\n",
              " 'Eliezer Wiesel was a Romania-born American novelist, political activist, and Holocaust survivor of Hungarian Jewish descent. He was the author of over 40 books, the best known of which is Night, a memoir that describes his experiences during the Holocaust and his imprisonment in several concentration camps.Wiesel was awarded the Nobel Peace Prize in 1986. The Norwegian Nobel Committee called him a \"messenger to mankind,\" noting that through his struggle to come to terms with \"his own personal experience of total humiliation and of the utter contempt for humanity shown in Hitler\\'s death camps,\" as well as his \"practical work in the cause of peace,\" Wiesel has delivered a powerful message \"of peace, atonement and human dignity\" to humanity.On November 30, 2006 Wiesel received an honorary knighthood in London, England in recognition of his work toward raising Holocaust education in the United Kingdom.http://us.macmillan.com/author/eliewi...',\n",
              " \"Friedrich Wilhelm Nietzsche (1844–1900) is a German philosopher of the late 19th century who challenged the foundations of Christianity and traditional morality. He was interested in the enhancement of individual and cultural health, and believed in life, creativity, power, and the realities of the world we live in, rather than those situated in a world beyond. Central to his philosophy is the idea of “life-affirmation,” which involves an honest questioning of all doctrines that drain life's expansive energies, however socially prevalent those views might be. Often referred to as one of the first existentialist philosophers along with Søren Kierkegaard (1813–1855), Nietzsche's revitalizing philosophy has inspired leading figures in all walks of cultural life, including dancers, poets, novelists, painters, psychologists, philosophers, sociologists and social revolutionaries.From the Stanford Encyclopedia of Philosophy\",\n",
              " 'Pablo Neruda was the pen name and, later, legal name of the Chilean writer and politician Neftalí Ricardo Reyes Basoalto. Neruda assumed his pen name as a teenager, partly because it was in vogue, partly to hide his poetry from his father, a rigid man who wanted his son to have a \"practical\" occupation. Neruda\\'s pen name was derived from Czech writer and poet Jan Neruda; Pablo is thought to be from Paul Verlaine. With his works translated into many languages, Pablo Neruda is considered one of the greatest and most influential poets of the 20th century.Neruda was accomplished in a variety of styles ranging from erotically charged love poems like his collection Twenty Poems of Love and a Song of Despair, surrealist poems, historical epics, and overtly political manifestos. In 1971 Neruda won the Nobel Prize for Literature, a controversial award because of his political activism. Colombian novelist Gabriel García Márquez once called him \"the greatest poet of the 20th century in any language.\"On July 15, 1945, at Pacaembu Stadium in São Paulo, Brazil, he read to 100,000 people in honor of Communist revolutionary leader Luís Carlos Prestes. When Neruda returned to Chile after his Nobel Prize acceptance speech, Salvador Allende invited him to read at the Estadio Nacional before 70,000 people.During his lifetime, Neruda occupied many diplomatic posts and served a stint as a senator for the Chilean Communist Party. When Conservative Chilean President González Videla outlawed communism in Chile, a warrant was issued for Neruda\\'s arrest. Friends hid him for months in a house basement in the Chilean port of Valparaíso. Later, Neruda escaped into exile through a mountain pass near Maihue Lake into Argentina. Years later, Neruda was a close collaborator to socialist President Salvador Allende.Neruda was hospitalized with cancer at the time of the Chilean coup d\\'état led by Augusto Pinochet. Three days after being hospitalized, Neruda died of heart failure. Already a legend in life, Neruda\\'s death reverberated around the world. Pinochet had denied permission to transform Neruda\\'s funeral into a public event. However, thousands of grieving Chileans disobeyed the curfew and crowded the streets. Neruda\\'s funeral became the first public protest against the Chilean military dictatorship.',\n",
              " 'Marilyn Monroe (born Norma Jeane Mortenson; June 1, 1926 – August 5, 1962) was an American actress, model, and singer, who became a major sex symbol, starring in a number of commercially successful motion pictures during the 1950s and early 1960s.After spending much of her childhood in foster homes, Monroe began a career as a model, which led to a film contract in 1946 with Twentieth Century-Fox. Her early film appearances were minor, but her performances in The Asphalt Jungle and All About Eve (both 1950), drew attention. By 1952 she had her first leading role in Don\\'t Bother to Knock and 1953 brought a lead in Niagara, a melodramatic film noir that dwelt on her seductiveness. Her \"dumb blonde\" persona was used to comic effect in subsequent films such as Gentlemen Prefer Blondes (1953), How to Marry a Millionaire (1953) and The Seven Year Itch (1955). Limited by typecasting, Monroe studied at the Actors Studio to broaden her range. Her dramatic performance in Bus Stop (1956) was hailed by critics and garnered a Golden Globe nomination. Her production company, Marilyn Monroe Productions, released The Prince and the Showgirl (1957), for which she received a BAFTA Award nomination and won a David di Donatello award. She received a Golden Globe Award for her performance in Some Like It Hot (1959). Monroe\\'s last completed film was The Misfits, co-starring Clark Gable with screenplay by her then-husband, Arthur Miller.Marilyn was a passionate reader, owning four hundred books at the time of her death, and was often photographed with a book.The final years of Monroe\\'s life were marked by illness, personal problems, and a reputation for unreliability and being difficult to work with. The circumstances of her death, from an overdose of barbiturates, have been the subject of conjecture. Though officially classified as a \"probable suicide\", the possibility of an accidental overdose, as well as of homicide, have not been ruled out. In 1999, Monroe was ranked as the sixth greatest female star of all time by the American Film Institute. In the decades following her death, she has often been cited as both a pop and a cultural icon as well as the quintessential American sex symbol.',\n",
              " 'Marilyn Monroe (born Norma Jeane Mortenson; June 1, 1926 – August 5, 1962) was an American actress, model, and singer, who became a major sex symbol, starring in a number of commercially successful motion pictures during the 1950s and early 1960s.After spending much of her childhood in foster homes, Monroe began a career as a model, which led to a film contract in 1946 with Twentieth Century-Fox. Her early film appearances were minor, but her performances in The Asphalt Jungle and All About Eve (both 1950), drew attention. By 1952 she had her first leading role in Don\\'t Bother to Knock and 1953 brought a lead in Niagara, a melodramatic film noir that dwelt on her seductiveness. Her \"dumb blonde\" persona was used to comic effect in subsequent films such as Gentlemen Prefer Blondes (1953), How to Marry a Millionaire (1953) and The Seven Year Itch (1955). Limited by typecasting, Monroe studied at the Actors Studio to broaden her range. Her dramatic performance in Bus Stop (1956) was hailed by critics and garnered a Golden Globe nomination. Her production company, Marilyn Monroe Productions, released The Prince and the Showgirl (1957), for which she received a BAFTA Award nomination and won a David di Donatello award. She received a Golden Globe Award for her performance in Some Like It Hot (1959). Monroe\\'s last completed film was The Misfits, co-starring Clark Gable with screenplay by her then-husband, Arthur Miller.Marilyn was a passionate reader, owning four hundred books at the time of her death, and was often photographed with a book.The final years of Monroe\\'s life were marked by illness, personal problems, and a reputation for unreliability and being difficult to work with. The circumstances of her death, from an overdose of barbiturates, have been the subject of conjecture. Though officially classified as a \"probable suicide\", the possibility of an accidental overdose, as well as of homicide, have not been ruled out. In 1999, Monroe was ranked as the sixth greatest female star of all time by the American Film Institute. In the decades following her death, she has often been cited as both a pop and a cultural icon as well as the quintessential American sex symbol.',\n",
              " 'Librarian Note: There is more than one author in the GoodReads database with this name. See this thread for more information.James Arthur Baldwin was an American novelist, essayist, playwright, poet, and social critic.James Baldwin offered a vital literary voice during the era of civil rights activism in the 1950s and \\'60s. The eldest of nine children, his stepfather was a minister. At age 14, Baldwin became a preacher at the small Fireside Pentecostal Church in Harlem. In the early 1940s, he transferred his faith from religion to literature. Critics, however, note the impassioned cadences of Black churches are still evident in his writing. Go Tell It on the Mountain, his first novel, is a partially autobiographical account of his youth. His essay collections Notes of a Native Son, Nobody Knows My Name, and The Fire Next Time were influential in informing a large white audience.From 1948, Baldwin made his home primarily in the south of France, but often returned to the USA to lecture or teach. In 1957, he began spending half of each year in New York City. His novels include Giovanni\\'s Room, about a white American expatriate who must come to terms with his homosexuality, and Another Country, about racial and gay sexual tensions among New York intellectuals. His inclusion of gay themes resulted in a lot of savage criticism from the Black community. Eldridge Cleaver, of the Black Panthers, stated the Baldwin\\'s writing displayed an \"agonizing, total hatred of blacks.\" Baldwin\\'s play, Blues for Mister Charlie, was produced in 1964. Going to Meet the Man and Tell Me How Long the Train\\'s Been Gone provided powerful descriptions of American racism. As an openly gay man, he became increasingly outspoken in condemning discrimination against lesbian and gay people.On November 30, 1987 Baldwin died from stomach cancer in Saint-Paul-de-Vence, France.He was buried at the Ferncliff Cemetery in Hartsdale, near New York City.',\n",
              " \"Jane Austen was an English novelist whose works of romantic fiction, set among the landed gentry, earned her a place as one of the most widely read writers in English literature, her realism and biting social commentary cementing her historical importance among scholars and critics.Austen lived her entire life as part of a close-knit family located on the lower fringes of the English landed gentry. She was educated primarily by her father and older brothers as well as through her own reading. The steadfast support of her family was critical to her development as a professional writer. Her artistic apprenticeship lasted from her teenage years until she was about 35 years old. During this period, she experimented with various literary forms, including the epistolary novel which she tried then abandoned, and wrote and extensively revised three major novels and began a fourth. From 1811 until 1816, with the release of Sense and Sensibility (1811), Pride and Prejudice (1813), Mansfield Park (1814) and Emma (1815), she achieved success as a published writer. She wrote two additional novels, Northanger Abbey and Persuasion, both published posthumously in 1818, and began a third, which was eventually titled Sanditon, but died before completing it.Austen's works critique the novels of sensibility of the second half of the 18th century and are part of the transition to 19th-century realism. Her plots, though fundamentally comic, highlight the dependence of women on marriage to secure social standing and economic security. Her work brought her little personal fame and only a few positive reviews during her lifetime, but the publication in 1869 of her nephew's A Memoir of Jane Austen introduced her to a wider public, and by the 1940s she had become widely accepted in academia as a great English writer. The second half of the 20th century saw a proliferation of Austen scholarship and the emergence of a Janeite fan culture.\"]"
            ]
          },
          "metadata": {},
          "execution_count": 29
        }
      ]
    },
    {
      "cell_type": "markdown",
      "source": [
        "# **As the test worked, the second method I created for working with the links generated by the previous method**"
      ],
      "metadata": {
        "id": "IkKXXH52-iHs"
      }
    },
    {
      "cell_type": "code",
      "source": [
        "def ScrapeNameBornDiscr(l, n, b, d):  #l-links, n - names, b - born and city, d - description\n",
        "  for i in l:\n",
        "    resp = requests.get(\"https://quotes.toscrape.com\" + i)\n",
        "    sp = BeautifulSoup(resp.content, parser = \"html.parser\")\n",
        "    n.append(sp.find(\"h3\", class_=\"author-title\").text)\n",
        "    bornInfo = sp.find(\"span\", class_=\"author-born-date\").text + \" \" + sp.find(\"span\", class_=\"author-born-location\").text\n",
        "    b.append(bornInfo)\n",
        "    d.append(sp.find(\"div\", class_=\"author-description\").text.strip())"
      ],
      "metadata": {
        "id": "lvtaXpUL4cUu"
      },
      "execution_count": 30,
      "outputs": []
    },
    {
      "cell_type": "code",
      "source": [
        "print(len(names))\n",
        "print(len(bornandcity))\n",
        "print(len(descr))"
      ],
      "metadata": {
        "colab": {
          "base_uri": "https://localhost:8080/"
        },
        "id": "IiD4nghVxj2U",
        "outputId": "1f4f554c-c36a-49a4-ea3a-c908a1874129"
      },
      "execution_count": 31,
      "outputs": [
        {
          "output_type": "stream",
          "name": "stdout",
          "text": [
            "10\n",
            "10\n",
            "10\n"
          ]
        }
      ]
    },
    {
      "cell_type": "code",
      "source": [
        "tagsTest = []\n",
        "tagT = soup.find(\"div\", class_=\"tags\")\n",
        "tagT.text"
      ],
      "metadata": {
        "colab": {
          "base_uri": "https://localhost:8080/",
          "height": 36
        },
        "id": "YnPsYICaxx-9",
        "outputId": "da880ccc-8b67-4d60-d59e-ef939545d839"
      },
      "execution_count": 32,
      "outputs": [
        {
          "output_type": "execute_result",
          "data": {
            "text/plain": [
              "'\\n            Tags:\\n            \\nlife\\nlove\\n'"
            ],
            "application/vnd.google.colaboratory.intrinsic+json": {
              "type": "string"
            }
          },
          "metadata": {},
          "execution_count": 32
        }
      ]
    },
    {
      "cell_type": "code",
      "source": [
        "for i in soup.find_all(\"div\", class_=\"tags\"):\n",
        "  a = \"\"\n",
        "  for j in i.find_all(\"a\", class_ = \"tag\"):\n",
        "    a = a+ j.text + \" \"\n",
        "  tagsTest.append(a)\n"
      ],
      "metadata": {
        "id": "YzcRsRPwy9Xg"
      },
      "execution_count": 33,
      "outputs": []
    },
    {
      "cell_type": "code",
      "source": [
        "tagsTest"
      ],
      "metadata": {
        "colab": {
          "base_uri": "https://localhost:8080/"
        },
        "id": "qQh1SD0_zN6a",
        "outputId": "e3742064-6370-4853-810f-231ebdadabe8"
      },
      "execution_count": 34,
      "outputs": [
        {
          "output_type": "execute_result",
          "data": {
            "text/plain": [
              "['life love ',\n",
              " 'friends heartbreak inspirational life love sisters ',\n",
              " 'love ',\n",
              " 'activism apathy hate indifference inspirational love opposite philosophy ',\n",
              " 'friendship lack-of-friendship lack-of-love love marriage unhappy-marriage ',\n",
              " 'love poetry ',\n",
              " 'girls love ',\n",
              " 'love ',\n",
              " 'love ',\n",
              " 'friendship love ']"
            ]
          },
          "metadata": {},
          "execution_count": 34
        }
      ]
    },
    {
      "cell_type": "markdown",
      "source": [
        "# **As tag scraping logic also works, this method is for scraping Tags**\n"
      ],
      "metadata": {
        "id": "YK1MDJ1L-z0M"
      }
    },
    {
      "cell_type": "code",
      "source": [
        "def ScrapeTags(s, t): #s-soup, t-tagList\n",
        "  for i in s.find_all(\"div\", class_=\"tags\"):\n",
        "    k = \"\"\n",
        "    for j in i.find_all(\"a\", class_ = \"tag\"):\n",
        "      k= k+ j.text + \" \"\n",
        "    t.append(k)"
      ],
      "metadata": {
        "id": "q0dwDW53522J"
      },
      "execution_count": 35,
      "outputs": []
    },
    {
      "cell_type": "markdown",
      "source": [
        "# As the test is sucessful, I have to apply the code to all pages"
      ],
      "metadata": {
        "id": "D2kqIoPT0LXC"
      }
    },
    {
      "cell_type": "code",
      "source": [
        "pages = []\n",
        "baseLink = \"https://quotes.toscrape.com/tag\"\n",
        "types = [\"/love/\", \"/inspirational/\", \"/life/\", \"/humor/\", \"/books/\", \"/friendship/\", \"/reading/\", \"/friends/\", \"/truth/\", \"/simile/\"]\n",
        "for i in types:\n",
        "  pages.append(baseLink + i)\n",
        "\n",
        "pages"
      ],
      "metadata": {
        "colab": {
          "base_uri": "https://localhost:8080/"
        },
        "id": "_9U0TrnX0GGj",
        "outputId": "6a31c02d-f0ca-4797-80c2-f36f41f9eb9e"
      },
      "execution_count": 36,
      "outputs": [
        {
          "output_type": "execute_result",
          "data": {
            "text/plain": [
              "['https://quotes.toscrape.com/tag/love/',\n",
              " 'https://quotes.toscrape.com/tag/inspirational/',\n",
              " 'https://quotes.toscrape.com/tag/life/',\n",
              " 'https://quotes.toscrape.com/tag/humor/',\n",
              " 'https://quotes.toscrape.com/tag/books/',\n",
              " 'https://quotes.toscrape.com/tag/friendship/',\n",
              " 'https://quotes.toscrape.com/tag/reading/',\n",
              " 'https://quotes.toscrape.com/tag/friends/',\n",
              " 'https://quotes.toscrape.com/tag/truth/',\n",
              " 'https://quotes.toscrape.com/tag/simile/']"
            ]
          },
          "metadata": {},
          "execution_count": 36
        }
      ]
    },
    {
      "cell_type": "code",
      "source": [
        "Quotes = []\n",
        "AuthorNames = []\n",
        "BornInfos = []\n",
        "Descriptions = []\n",
        "Tags = []"
      ],
      "metadata": {
        "id": "umC5Bz4A2f9v"
      },
      "execution_count": 37,
      "outputs": []
    },
    {
      "cell_type": "code",
      "source": [
        "for i in pages:\n",
        "  response = requests.get(i)\n",
        "  currentSoup = BeautifulSoup(response.content, parser = \"html.parser\")\n",
        "  for j in currentSoup.find_all(\"span\", class_= \"text\"):\n",
        "    Quotes.append(j.text)\n",
        "  print(\"Quotes done\")\n",
        "  currentLinks = []\n",
        "  GenerateLinkList(currentSoup, currentLinks)\n",
        "  ScrapeNameBornDiscr(currentLinks, AuthorNames, BornInfos, Descriptions)\n",
        "  print(\"Name, Born, Decription also done\")\n",
        "  ScrapeTags(currentSoup, Tags)\n",
        "  print(\"Tags done \")\n"
      ],
      "metadata": {
        "colab": {
          "base_uri": "https://localhost:8080/"
        },
        "id": "YVRGecUr1cD0",
        "outputId": "29815742-71ea-4d77-ce21-8a03dcc75d7f"
      },
      "execution_count": 38,
      "outputs": [
        {
          "output_type": "stream",
          "name": "stdout",
          "text": [
            "Quotes done\n",
            "Name, Born, Decription also done\n",
            "Tags done \n",
            "Quotes done\n",
            "Name, Born, Decription also done\n",
            "Tags done \n",
            "Quotes done\n",
            "Name, Born, Decription also done\n",
            "Tags done \n",
            "Quotes done\n",
            "Name, Born, Decription also done\n",
            "Tags done \n",
            "Quotes done\n",
            "Name, Born, Decription also done\n",
            "Tags done \n",
            "Quotes done\n",
            "Name, Born, Decription also done\n",
            "Tags done \n",
            "Quotes done\n",
            "Name, Born, Decription also done\n",
            "Tags done \n",
            "Quotes done\n",
            "Name, Born, Decription also done\n",
            "Tags done \n",
            "Quotes done\n",
            "Name, Born, Decription also done\n",
            "Tags done \n",
            "Quotes done\n",
            "Name, Born, Decription also done\n",
            "Tags done \n"
          ]
        }
      ]
    },
    {
      "cell_type": "code",
      "source": [
        "print(len(AuthorNames))\n",
        "print(len(BornInfos))\n",
        "print(len(Quotes))\n",
        "print(len(Descriptions))\n",
        "print(len(Tags))"
      ],
      "metadata": {
        "colab": {
          "base_uri": "https://localhost:8080/"
        },
        "id": "iujIwNfM6lVr",
        "outputId": "4ddc7f42-ffea-4c96-bbed-f5a6e6bd4bd9"
      },
      "execution_count": 39,
      "outputs": [
        {
          "output_type": "stream",
          "name": "stdout",
          "text": [
            "73\n",
            "73\n",
            "73\n",
            "73\n",
            "73\n"
          ]
        }
      ]
    },
    {
      "cell_type": "code",
      "source": [
        "import pandas\n",
        "df = pandas.DataFrame(data={\"Name\": AuthorNames, \"Born Info\": BornInfos, \"Description\": Descriptions, \"Quote\": Quotes, \"Tags\": Tags})\n",
        "df.to_csv(\"./file.csv\", sep=',',index=False)"
      ],
      "metadata": {
        "id": "ROhSeRgW62UD"
      },
      "execution_count": 40,
      "outputs": []
    },
    {
      "cell_type": "code",
      "source": [
        "df"
      ],
      "metadata": {
        "colab": {
          "base_uri": "https://localhost:8080/",
          "height": 597
        },
        "id": "IgEwF06j8NU-",
        "outputId": "f441c6be-1a68-4b25-85a1-fa8541061b02"
      },
      "execution_count": 41,
      "outputs": [
        {
          "output_type": "execute_result",
          "data": {
            "text/plain": [
              "                   Name                                          Born Info  \\\n",
              "0            André Gide                 November 22, 1869 in Paris, France   \n",
              "1        Marilyn Monroe                 June 01, 1926 in The United States   \n",
              "2            Bob Marley  February 06, 1945 in Nine Mile, Saint Ann, Jam...   \n",
              "3           Elie Wiesel              September 30, 1928 in Sighet, Romania   \n",
              "4   Friedrich Nietzsche  October 15, 1844 in Röcken bei Lützen, Prussia...   \n",
              "..                  ...                                                ...   \n",
              "68         J.K. Rowling  July 31, 1965 in Yate, South Gloucestershire, ...   \n",
              "69           Mark Twain  November 30, 1835 in Florida, Missouri, The Un...   \n",
              "70         Steve Martin  August 14, 1945 in Waco, Texas, The United States   \n",
              "71      Albert Einstein                     March 14, 1879 in Ulm, Germany   \n",
              "72      Stephenie Meyer  December 24, 1973 in Connecticut, The United S...   \n",
              "\n",
              "                                          Description  \\\n",
              "0   André Paul Guillaume Gide was a French author ...   \n",
              "1   Marilyn Monroe (born Norma Jeane Mortenson; Ju...   \n",
              "2   Robert \"Bob\" Nesta Marley OM was a Jamaican si...   \n",
              "3   Eliezer Wiesel was a Romania-born American nov...   \n",
              "4   Friedrich Wilhelm Nietzsche (1844–1900) is a G...   \n",
              "..                                                ...   \n",
              "68  See also: Robert GalbraithAlthough she writes ...   \n",
              "69  Samuel Langhorne Clemens, better known by his ...   \n",
              "70  Stephen Glenn \"Steve\" Martin is an American ac...   \n",
              "71  In 1879, Albert Einstein was born in Ulm, Germ...   \n",
              "72  I was born in Connecticut in 1973, during a br...   \n",
              "\n",
              "                                                Quote  \\\n",
              "0   “It is better to be hated for what you are tha...   \n",
              "1   “This life is what you make it. No matter what...   \n",
              "2   “You may not be her first, her last, or her on...   \n",
              "3   “The opposite of love is not hate, it's indiff...   \n",
              "4   “It is not a lack of love, but a lack of frien...   \n",
              "..                                                ...   \n",
              "68  “The truth.\" Dumbledore sighed. \"It is a beaut...   \n",
              "69  “Never tell the truth to people who are not wo...   \n",
              "70  “A day without sunshine is like, you know, nig...   \n",
              "71  “Life is like riding a bicycle. To keep your b...   \n",
              "72                 “He's like a drug for you, Bella.”   \n",
              "\n",
              "                                                 Tags  \n",
              "0                                          life love   \n",
              "1   friends heartbreak inspirational life love sis...  \n",
              "2                                               love   \n",
              "3   activism apathy hate indifference inspirationa...  \n",
              "4   friendship lack-of-friendship lack-of-love lov...  \n",
              "..                                                ...  \n",
              "68                                             truth   \n",
              "69                                             truth   \n",
              "70                              humor obvious simile   \n",
              "71                                       life simile   \n",
              "72                               drug romance simile   \n",
              "\n",
              "[73 rows x 5 columns]"
            ],
            "text/html": [
              "\n",
              "  <div id=\"df-601cbfed-d1da-43e1-a1eb-2a097e086d99\" class=\"colab-df-container\">\n",
              "    <div>\n",
              "<style scoped>\n",
              "    .dataframe tbody tr th:only-of-type {\n",
              "        vertical-align: middle;\n",
              "    }\n",
              "\n",
              "    .dataframe tbody tr th {\n",
              "        vertical-align: top;\n",
              "    }\n",
              "\n",
              "    .dataframe thead th {\n",
              "        text-align: right;\n",
              "    }\n",
              "</style>\n",
              "<table border=\"1\" class=\"dataframe\">\n",
              "  <thead>\n",
              "    <tr style=\"text-align: right;\">\n",
              "      <th></th>\n",
              "      <th>Name</th>\n",
              "      <th>Born Info</th>\n",
              "      <th>Description</th>\n",
              "      <th>Quote</th>\n",
              "      <th>Tags</th>\n",
              "    </tr>\n",
              "  </thead>\n",
              "  <tbody>\n",
              "    <tr>\n",
              "      <th>0</th>\n",
              "      <td>André Gide</td>\n",
              "      <td>November 22, 1869 in Paris, France</td>\n",
              "      <td>André Paul Guillaume Gide was a French author ...</td>\n",
              "      <td>“It is better to be hated for what you are tha...</td>\n",
              "      <td>life love</td>\n",
              "    </tr>\n",
              "    <tr>\n",
              "      <th>1</th>\n",
              "      <td>Marilyn Monroe</td>\n",
              "      <td>June 01, 1926 in The United States</td>\n",
              "      <td>Marilyn Monroe (born Norma Jeane Mortenson; Ju...</td>\n",
              "      <td>“This life is what you make it. No matter what...</td>\n",
              "      <td>friends heartbreak inspirational life love sis...</td>\n",
              "    </tr>\n",
              "    <tr>\n",
              "      <th>2</th>\n",
              "      <td>Bob Marley</td>\n",
              "      <td>February 06, 1945 in Nine Mile, Saint Ann, Jam...</td>\n",
              "      <td>Robert \"Bob\" Nesta Marley OM was a Jamaican si...</td>\n",
              "      <td>“You may not be her first, her last, or her on...</td>\n",
              "      <td>love</td>\n",
              "    </tr>\n",
              "    <tr>\n",
              "      <th>3</th>\n",
              "      <td>Elie Wiesel</td>\n",
              "      <td>September 30, 1928 in Sighet, Romania</td>\n",
              "      <td>Eliezer Wiesel was a Romania-born American nov...</td>\n",
              "      <td>“The opposite of love is not hate, it's indiff...</td>\n",
              "      <td>activism apathy hate indifference inspirationa...</td>\n",
              "    </tr>\n",
              "    <tr>\n",
              "      <th>4</th>\n",
              "      <td>Friedrich Nietzsche</td>\n",
              "      <td>October 15, 1844 in Röcken bei Lützen, Prussia...</td>\n",
              "      <td>Friedrich Wilhelm Nietzsche (1844–1900) is a G...</td>\n",
              "      <td>“It is not a lack of love, but a lack of frien...</td>\n",
              "      <td>friendship lack-of-friendship lack-of-love lov...</td>\n",
              "    </tr>\n",
              "    <tr>\n",
              "      <th>...</th>\n",
              "      <td>...</td>\n",
              "      <td>...</td>\n",
              "      <td>...</td>\n",
              "      <td>...</td>\n",
              "      <td>...</td>\n",
              "    </tr>\n",
              "    <tr>\n",
              "      <th>68</th>\n",
              "      <td>J.K. Rowling</td>\n",
              "      <td>July 31, 1965 in Yate, South Gloucestershire, ...</td>\n",
              "      <td>See also: Robert GalbraithAlthough she writes ...</td>\n",
              "      <td>“The truth.\" Dumbledore sighed. \"It is a beaut...</td>\n",
              "      <td>truth</td>\n",
              "    </tr>\n",
              "    <tr>\n",
              "      <th>69</th>\n",
              "      <td>Mark Twain</td>\n",
              "      <td>November 30, 1835 in Florida, Missouri, The Un...</td>\n",
              "      <td>Samuel Langhorne Clemens, better known by his ...</td>\n",
              "      <td>“Never tell the truth to people who are not wo...</td>\n",
              "      <td>truth</td>\n",
              "    </tr>\n",
              "    <tr>\n",
              "      <th>70</th>\n",
              "      <td>Steve Martin</td>\n",
              "      <td>August 14, 1945 in Waco, Texas, The United States</td>\n",
              "      <td>Stephen Glenn \"Steve\" Martin is an American ac...</td>\n",
              "      <td>“A day without sunshine is like, you know, nig...</td>\n",
              "      <td>humor obvious simile</td>\n",
              "    </tr>\n",
              "    <tr>\n",
              "      <th>71</th>\n",
              "      <td>Albert Einstein</td>\n",
              "      <td>March 14, 1879 in Ulm, Germany</td>\n",
              "      <td>In 1879, Albert Einstein was born in Ulm, Germ...</td>\n",
              "      <td>“Life is like riding a bicycle. To keep your b...</td>\n",
              "      <td>life simile</td>\n",
              "    </tr>\n",
              "    <tr>\n",
              "      <th>72</th>\n",
              "      <td>Stephenie Meyer</td>\n",
              "      <td>December 24, 1973 in Connecticut, The United S...</td>\n",
              "      <td>I was born in Connecticut in 1973, during a br...</td>\n",
              "      <td>“He's like a drug for you, Bella.”</td>\n",
              "      <td>drug romance simile</td>\n",
              "    </tr>\n",
              "  </tbody>\n",
              "</table>\n",
              "<p>73 rows × 5 columns</p>\n",
              "</div>\n",
              "    <div class=\"colab-df-buttons\">\n",
              "\n",
              "  <div class=\"colab-df-container\">\n",
              "    <button class=\"colab-df-convert\" onclick=\"convertToInteractive('df-601cbfed-d1da-43e1-a1eb-2a097e086d99')\"\n",
              "            title=\"Convert this dataframe to an interactive table.\"\n",
              "            style=\"display:none;\">\n",
              "\n",
              "  <svg xmlns=\"http://www.w3.org/2000/svg\" height=\"24px\" viewBox=\"0 -960 960 960\">\n",
              "    <path d=\"M120-120v-720h720v720H120Zm60-500h600v-160H180v160Zm220 220h160v-160H400v160Zm0 220h160v-160H400v160ZM180-400h160v-160H180v160Zm440 0h160v-160H620v160ZM180-180h160v-160H180v160Zm440 0h160v-160H620v160Z\"/>\n",
              "  </svg>\n",
              "    </button>\n",
              "\n",
              "  <style>\n",
              "    .colab-df-container {\n",
              "      display:flex;\n",
              "      gap: 12px;\n",
              "    }\n",
              "\n",
              "    .colab-df-convert {\n",
              "      background-color: #E8F0FE;\n",
              "      border: none;\n",
              "      border-radius: 50%;\n",
              "      cursor: pointer;\n",
              "      display: none;\n",
              "      fill: #1967D2;\n",
              "      height: 32px;\n",
              "      padding: 0 0 0 0;\n",
              "      width: 32px;\n",
              "    }\n",
              "\n",
              "    .colab-df-convert:hover {\n",
              "      background-color: #E2EBFA;\n",
              "      box-shadow: 0px 1px 2px rgba(60, 64, 67, 0.3), 0px 1px 3px 1px rgba(60, 64, 67, 0.15);\n",
              "      fill: #174EA6;\n",
              "    }\n",
              "\n",
              "    .colab-df-buttons div {\n",
              "      margin-bottom: 4px;\n",
              "    }\n",
              "\n",
              "    [theme=dark] .colab-df-convert {\n",
              "      background-color: #3B4455;\n",
              "      fill: #D2E3FC;\n",
              "    }\n",
              "\n",
              "    [theme=dark] .colab-df-convert:hover {\n",
              "      background-color: #434B5C;\n",
              "      box-shadow: 0px 1px 3px 1px rgba(0, 0, 0, 0.15);\n",
              "      filter: drop-shadow(0px 1px 2px rgba(0, 0, 0, 0.3));\n",
              "      fill: #FFFFFF;\n",
              "    }\n",
              "  </style>\n",
              "\n",
              "    <script>\n",
              "      const buttonEl =\n",
              "        document.querySelector('#df-601cbfed-d1da-43e1-a1eb-2a097e086d99 button.colab-df-convert');\n",
              "      buttonEl.style.display =\n",
              "        google.colab.kernel.accessAllowed ? 'block' : 'none';\n",
              "\n",
              "      async function convertToInteractive(key) {\n",
              "        const element = document.querySelector('#df-601cbfed-d1da-43e1-a1eb-2a097e086d99');\n",
              "        const dataTable =\n",
              "          await google.colab.kernel.invokeFunction('convertToInteractive',\n",
              "                                                    [key], {});\n",
              "        if (!dataTable) return;\n",
              "\n",
              "        const docLinkHtml = 'Like what you see? Visit the ' +\n",
              "          '<a target=\"_blank\" href=https://colab.research.google.com/notebooks/data_table.ipynb>data table notebook</a>'\n",
              "          + ' to learn more about interactive tables.';\n",
              "        element.innerHTML = '';\n",
              "        dataTable['output_type'] = 'display_data';\n",
              "        await google.colab.output.renderOutput(dataTable, element);\n",
              "        const docLink = document.createElement('div');\n",
              "        docLink.innerHTML = docLinkHtml;\n",
              "        element.appendChild(docLink);\n",
              "      }\n",
              "    </script>\n",
              "  </div>\n",
              "\n",
              "\n",
              "<div id=\"df-f90b1104-64f2-4f13-950a-02ce3d7d9cbb\">\n",
              "  <button class=\"colab-df-quickchart\" onclick=\"quickchart('df-f90b1104-64f2-4f13-950a-02ce3d7d9cbb')\"\n",
              "            title=\"Suggest charts\"\n",
              "            style=\"display:none;\">\n",
              "\n",
              "<svg xmlns=\"http://www.w3.org/2000/svg\" height=\"24px\"viewBox=\"0 0 24 24\"\n",
              "     width=\"24px\">\n",
              "    <g>\n",
              "        <path d=\"M19 3H5c-1.1 0-2 .9-2 2v14c0 1.1.9 2 2 2h14c1.1 0 2-.9 2-2V5c0-1.1-.9-2-2-2zM9 17H7v-7h2v7zm4 0h-2V7h2v10zm4 0h-2v-4h2v4z\"/>\n",
              "    </g>\n",
              "</svg>\n",
              "  </button>\n",
              "\n",
              "<style>\n",
              "  .colab-df-quickchart {\n",
              "      --bg-color: #E8F0FE;\n",
              "      --fill-color: #1967D2;\n",
              "      --hover-bg-color: #E2EBFA;\n",
              "      --hover-fill-color: #174EA6;\n",
              "      --disabled-fill-color: #AAA;\n",
              "      --disabled-bg-color: #DDD;\n",
              "  }\n",
              "\n",
              "  [theme=dark] .colab-df-quickchart {\n",
              "      --bg-color: #3B4455;\n",
              "      --fill-color: #D2E3FC;\n",
              "      --hover-bg-color: #434B5C;\n",
              "      --hover-fill-color: #FFFFFF;\n",
              "      --disabled-bg-color: #3B4455;\n",
              "      --disabled-fill-color: #666;\n",
              "  }\n",
              "\n",
              "  .colab-df-quickchart {\n",
              "    background-color: var(--bg-color);\n",
              "    border: none;\n",
              "    border-radius: 50%;\n",
              "    cursor: pointer;\n",
              "    display: none;\n",
              "    fill: var(--fill-color);\n",
              "    height: 32px;\n",
              "    padding: 0;\n",
              "    width: 32px;\n",
              "  }\n",
              "\n",
              "  .colab-df-quickchart:hover {\n",
              "    background-color: var(--hover-bg-color);\n",
              "    box-shadow: 0 1px 2px rgba(60, 64, 67, 0.3), 0 1px 3px 1px rgba(60, 64, 67, 0.15);\n",
              "    fill: var(--button-hover-fill-color);\n",
              "  }\n",
              "\n",
              "  .colab-df-quickchart-complete:disabled,\n",
              "  .colab-df-quickchart-complete:disabled:hover {\n",
              "    background-color: var(--disabled-bg-color);\n",
              "    fill: var(--disabled-fill-color);\n",
              "    box-shadow: none;\n",
              "  }\n",
              "\n",
              "  .colab-df-spinner {\n",
              "    border: 2px solid var(--fill-color);\n",
              "    border-color: transparent;\n",
              "    border-bottom-color: var(--fill-color);\n",
              "    animation:\n",
              "      spin 1s steps(1) infinite;\n",
              "  }\n",
              "\n",
              "  @keyframes spin {\n",
              "    0% {\n",
              "      border-color: transparent;\n",
              "      border-bottom-color: var(--fill-color);\n",
              "      border-left-color: var(--fill-color);\n",
              "    }\n",
              "    20% {\n",
              "      border-color: transparent;\n",
              "      border-left-color: var(--fill-color);\n",
              "      border-top-color: var(--fill-color);\n",
              "    }\n",
              "    30% {\n",
              "      border-color: transparent;\n",
              "      border-left-color: var(--fill-color);\n",
              "      border-top-color: var(--fill-color);\n",
              "      border-right-color: var(--fill-color);\n",
              "    }\n",
              "    40% {\n",
              "      border-color: transparent;\n",
              "      border-right-color: var(--fill-color);\n",
              "      border-top-color: var(--fill-color);\n",
              "    }\n",
              "    60% {\n",
              "      border-color: transparent;\n",
              "      border-right-color: var(--fill-color);\n",
              "    }\n",
              "    80% {\n",
              "      border-color: transparent;\n",
              "      border-right-color: var(--fill-color);\n",
              "      border-bottom-color: var(--fill-color);\n",
              "    }\n",
              "    90% {\n",
              "      border-color: transparent;\n",
              "      border-bottom-color: var(--fill-color);\n",
              "    }\n",
              "  }\n",
              "</style>\n",
              "\n",
              "  <script>\n",
              "    async function quickchart(key) {\n",
              "      const quickchartButtonEl =\n",
              "        document.querySelector('#' + key + ' button');\n",
              "      quickchartButtonEl.disabled = true;  // To prevent multiple clicks.\n",
              "      quickchartButtonEl.classList.add('colab-df-spinner');\n",
              "      try {\n",
              "        const charts = await google.colab.kernel.invokeFunction(\n",
              "            'suggestCharts', [key], {});\n",
              "      } catch (error) {\n",
              "        console.error('Error during call to suggestCharts:', error);\n",
              "      }\n",
              "      quickchartButtonEl.classList.remove('colab-df-spinner');\n",
              "      quickchartButtonEl.classList.add('colab-df-quickchart-complete');\n",
              "    }\n",
              "    (() => {\n",
              "      let quickchartButtonEl =\n",
              "        document.querySelector('#df-f90b1104-64f2-4f13-950a-02ce3d7d9cbb button');\n",
              "      quickchartButtonEl.style.display =\n",
              "        google.colab.kernel.accessAllowed ? 'block' : 'none';\n",
              "    })();\n",
              "  </script>\n",
              "</div>\n",
              "\n",
              "  <div id=\"id_36ee6c6b-e1a7-4a37-b585-cecfd906158f\">\n",
              "    <style>\n",
              "      .colab-df-generate {\n",
              "        background-color: #E8F0FE;\n",
              "        border: none;\n",
              "        border-radius: 50%;\n",
              "        cursor: pointer;\n",
              "        display: none;\n",
              "        fill: #1967D2;\n",
              "        height: 32px;\n",
              "        padding: 0 0 0 0;\n",
              "        width: 32px;\n",
              "      }\n",
              "\n",
              "      .colab-df-generate:hover {\n",
              "        background-color: #E2EBFA;\n",
              "        box-shadow: 0px 1px 2px rgba(60, 64, 67, 0.3), 0px 1px 3px 1px rgba(60, 64, 67, 0.15);\n",
              "        fill: #174EA6;\n",
              "      }\n",
              "\n",
              "      [theme=dark] .colab-df-generate {\n",
              "        background-color: #3B4455;\n",
              "        fill: #D2E3FC;\n",
              "      }\n",
              "\n",
              "      [theme=dark] .colab-df-generate:hover {\n",
              "        background-color: #434B5C;\n",
              "        box-shadow: 0px 1px 3px 1px rgba(0, 0, 0, 0.15);\n",
              "        filter: drop-shadow(0px 1px 2px rgba(0, 0, 0, 0.3));\n",
              "        fill: #FFFFFF;\n",
              "      }\n",
              "    </style>\n",
              "    <button class=\"colab-df-generate\" onclick=\"generateWithVariable('df')\"\n",
              "            title=\"Generate code using this dataframe.\"\n",
              "            style=\"display:none;\">\n",
              "\n",
              "  <svg xmlns=\"http://www.w3.org/2000/svg\" height=\"24px\"viewBox=\"0 0 24 24\"\n",
              "       width=\"24px\">\n",
              "    <path d=\"M7,19H8.4L18.45,9,17,7.55,7,17.6ZM5,21V16.75L18.45,3.32a2,2,0,0,1,2.83,0l1.4,1.43a1.91,1.91,0,0,1,.58,1.4,1.91,1.91,0,0,1-.58,1.4L9.25,21ZM18.45,9,17,7.55Zm-12,3A5.31,5.31,0,0,0,4.9,8.1,5.31,5.31,0,0,0,1,6.5,5.31,5.31,0,0,0,4.9,4.9,5.31,5.31,0,0,0,6.5,1,5.31,5.31,0,0,0,8.1,4.9,5.31,5.31,0,0,0,12,6.5,5.46,5.46,0,0,0,6.5,12Z\"/>\n",
              "  </svg>\n",
              "    </button>\n",
              "    <script>\n",
              "      (() => {\n",
              "      const buttonEl =\n",
              "        document.querySelector('#id_36ee6c6b-e1a7-4a37-b585-cecfd906158f button.colab-df-generate');\n",
              "      buttonEl.style.display =\n",
              "        google.colab.kernel.accessAllowed ? 'block' : 'none';\n",
              "\n",
              "      buttonEl.onclick = () => {\n",
              "        google.colab.notebook.generateWithVariable('df');\n",
              "      }\n",
              "      })();\n",
              "    </script>\n",
              "  </div>\n",
              "\n",
              "    </div>\n",
              "  </div>\n"
            ],
            "application/vnd.google.colaboratory.intrinsic+json": {
              "type": "dataframe",
              "variable_name": "df",
              "summary": "{\n  \"name\": \"df\",\n  \"rows\": 73,\n  \"fields\": [\n    {\n      \"column\": \"Name\",\n      \"properties\": {\n        \"dtype\": \"string\",\n        \"num_unique_values\": 38,\n        \"samples\": [\n          \"Madeleine L'Engle\",\n          \"George R.R. Martin\",\n          \"Friedrich Nietzsche\"\n        ],\n        \"semantic_type\": \"\",\n        \"description\": \"\"\n      }\n    },\n    {\n      \"column\": \"Born Info\",\n      \"properties\": {\n        \"dtype\": \"string\",\n        \"num_unique_values\": 38,\n        \"samples\": [\n          \"November 29, 1918 in New York City, New York, The United States\",\n          \"September 20, 1948 in Bayonne, New Jersey, The United States\",\n          \"October 15, 1844 in R\\u00f6cken bei L\\u00fctzen, Prussian Province of Saxony, Germany\"\n        ],\n        \"semantic_type\": \"\",\n        \"description\": \"\"\n      }\n    },\n    {\n      \"column\": \"Description\",\n      \"properties\": {\n        \"dtype\": \"string\",\n        \"num_unique_values\": 38,\n        \"samples\": [\n          \"Madeleine L'Engle was an American writer best known for her Young Adult fiction, particularly the Newbery Medal-winning A Wrinkle in Time and its sequels A Wind in the Door, A Swiftly Tilting Planet, and Many Waters. Her works reflect her strong interest in modern science: tesseracts, for example, are featured prominently in A Wrinkle in Time, mitochondrial DNA in A Wind in the Door, organ regeneration in The Arm of the Starfish, and so forth.\\\"Madeleine was born on November 29th, 1918, and spent her formative years in New York City. Instead of her school work, she found that she would much rather be writing stories, poems and journals for herself, which was reflected in her grades (not the best). However, she was not discouraged.At age 12, she moved to the French Alps with her parents and went to an English boarding school where, thankfully, her passion for writing continued to grow. She flourished during her high school years back in the United States at Ashley Hall in Charleston, South Carolina, vacationing with her mother in a rambling old beach cottage on a beautiful stretch of Florida Beach.She went to Smith College and studied English with some wonderful teachers as she read the classics and continued her own creative writing. She graduated with honors and moved into a Greenwich Village apartment in New York. She worked in the theater, where Equity union pay and a flexible schedule afforded her the time to write! She published her first two novels during these years--A Small Rain and Ilsa--before meeting Hugh Franklin, her future husband, when she was an understudy in Anton Chekov's The Cherry Orchard. They married during The Joyous Season.She had a baby girl and kept on writing, eventually moving to Connecticut to raise the family away from the city in a small dairy farm village with more cows than people. They bought a dead general store, and brought it to life for 9 years. They moved back to the city with three children, and Hugh revitalized his professional acting career. The family has kept the country house, Crosswicks, and continues to spend summers there.As the years passed and the children grew, Madeleine continued to write and Hugh to act, and they to enjoy each other and life. Madeleine began her association with the Cathedral Church of St. John the Divine, where she has been the librarian and maintained an office for more than thirty years. After Hugh's death in 1986, it was her writing and lecturing that kept her going. She has now lived through the 20th century and into the 21st and has written over 60 books and keeps writing. She enjoys being with her friends, her children, her grandchildren, and her great grandchildren.\\\"http://us.macmillan.com/author/madele...Copyright \\u00a9 2007 Crosswicks, Ltd. (Madeleine L'Engle, President)\",\n          \"George R. R. Martin was born September 20, 1948, in Bayonne, New Jersey. His father was Raymond Collins Martin, a longshoreman, and his mother was Margaret Brady Martin. He has two sisters, Darleen Martin Lapinski and Janet Martin Patten. Martin attended Mary Jane Donohoe School and Marist High School. He began writing very young, selling monster stories to other neighborhood children for pennies, dramatic readings included. Later he became a comic book fan and collector in high school, and began to write fiction for comic fanzines (amateur fan magazines). Martin's first professional sale was made in 1970 at age 21: \\\"The Hero,\\\" sold to Galaxy, published in February, 1971 issue. Other sales followed. In 1970 Martin received a B.S. in Journalism from Northwestern University, Evanston, Illinois, graduating summa cum laude. He went on to complete a M.S. in Journalism in 1971, also from Northwestern. As a conscientious objector, Martin did alternative service 1972-1974 with VISTA, attached to Cook County Legal Assistance Foundation. He also directed chess tournaments for the Continental Chess Association from 1973-1976, and was a Journalism instructor at Clarke College, Dubuque, Iowa, from 1976-1978. He wrote part-time throughout the 1970s while working as a VISTA Volunteer, chess director, and teacher. In 1975 he married Gale Burnick. They divorced in 1979, with no children. Martin became a full-time writer in 1979. He was writer-in-residence at Clarke College from 1978-79. Moving on to Hollywood, Martin signed on as a story editor for Twilight Zone at CBS Television in 1986. In 1987 Martin became an Executive Story Consultant for Beauty and the Beast at CBS. In 1988 he became a Producer for Beauty and the Beast, then in 1989 moved up to Co-Supervising Producer. He was Executive Producer for Doorways, a pilot which he wrote for Columbia Pictures Television, which was filmed during 1992-93. Martin's present home is Santa Fe, New Mexico. He is a member of Science Fiction & Fantasy Writers of America (he was South-Central Regional Director 1977-1979, and Vice President 1996-1998), and of Writers' Guild of America, West. http://us.macmillan.com/author/george...\",\n          \"Friedrich Wilhelm Nietzsche (1844\\u20131900) is a German philosopher of the late 19th century who challenged the foundations of Christianity and traditional morality. He was interested in the enhancement of individual and cultural health, and believed in life, creativity, power, and the realities of the world we live in, rather than those situated in a world beyond. Central to his philosophy is the idea of \\u201clife-affirmation,\\u201d which involves an honest questioning of all doctrines that drain life's expansive energies, however socially prevalent those views might be. Often referred to as one of the first existentialist philosophers along with S\\u00f8ren Kierkegaard (1813\\u20131855), Nietzsche's revitalizing philosophy has inspired leading figures in all walks of cultural life, including dancers, poets, novelists, painters, psychologists, philosophers, sociologists and social revolutionaries.From the Stanford Encyclopedia of Philosophy\"\n        ],\n        \"semantic_type\": \"\",\n        \"description\": \"\"\n      }\n    },\n    {\n      \"column\": \"Quote\",\n      \"properties\": {\n        \"dtype\": \"string\",\n        \"num_unique_values\": 52,\n        \"samples\": [\n          \"\\u201cGood friends, good books, and a sleepy conscience: this is the ideal life.\\u201d\",\n          \"\\u201cYou have to write the book that wants to be written. And if the book will be too difficult for grown-ups, then you write it for children.\\u201d\",\n          \"\\u201cIt takes a great deal of bravery to stand up to our enemies, but just as much to stand up to our friends.\\u201d\"\n        ],\n        \"semantic_type\": \"\",\n        \"description\": \"\"\n      }\n    },\n    {\n      \"column\": \"Tags\",\n      \"properties\": {\n        \"dtype\": \"string\",\n        \"num_unique_values\": 45,\n        \"samples\": [\n          \"misattributed-to-c-s-lewis reading \",\n          \"humor \",\n          \"chocolate food humor \"\n        ],\n        \"semantic_type\": \"\",\n        \"description\": \"\"\n      }\n    }\n  ]\n}"
            }
          },
          "metadata": {},
          "execution_count": 41
        }
      ]
    }
  ]
}