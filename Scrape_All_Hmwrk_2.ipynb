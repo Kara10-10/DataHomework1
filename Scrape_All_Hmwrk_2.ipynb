{
 "cells": [
  {
   "cell_type": "code",
   "execution_count": 1,
   "metadata": {
    "id": "QEyvI5ysd2UV"
   },
   "outputs": [],
   "source": [
    "from bs4 import BeautifulSoup\n",
    "import requests"
   ]
  },
  {
   "cell_type": "markdown",
   "metadata": {
    "id": "HdbfCqZW9zzx"
   },
   "source": [
    "# **This is the first part, here I was trying to complete the task on one page, if something was true, I was creating a method for keeping the algorythm**"
   ]
  },
  {
   "cell_type": "code",
   "execution_count": 2,
   "metadata": {
    "id": "er4Yvifad8Dx"
   },
   "outputs": [],
   "source": [
    "respons = requests.get(\"https://quotes.toscrape.com/tag/love/\")"
   ]
  },
  {
   "cell_type": "code",
   "execution_count": 3,
   "metadata": {
    "id": "ABxcquMMeM1p"
   },
   "outputs": [],
   "source": [
    "soup = BeautifulSoup(respons.content, parser = \"html.parser\")"
   ]
  },
  {
   "cell_type": "code",
   "execution_count": 4,
   "metadata": {
    "id": "ns_CDkT_eO65"
   },
   "outputs": [],
   "source": [
    "loveContainer = soup.find(\"div\", class_ = \"col-md-8\")"
   ]
  },
  {
   "cell_type": "code",
   "execution_count": 5,
   "metadata": {
    "colab": {
     "base_uri": "https://localhost:8080/"
    },
    "id": "ULysVUk3emM1",
    "outputId": "89b101e0-86cb-4ed8-be18-62d9ef469a2c"
   },
   "outputs": [
    {
     "data": {
      "text/plain": [
       "<div class=\"col-md-8\">\n",
       "<h1>\n",
       "<a href=\"/\" style=\"text-decoration: none\">Quotes to Scrape</a>\n",
       "</h1>\n",
       "</div>"
      ]
     },
     "execution_count": 5,
     "metadata": {},
     "output_type": "execute_result"
    }
   ],
   "source": [
    "loveContainer"
   ]
  },
  {
   "cell_type": "code",
   "execution_count": 6,
   "metadata": {
    "colab": {
     "base_uri": "https://localhost:8080/"
    },
    "id": "8NVqOR8kexj2",
    "outputId": "0a92feb3-4e3f-414b-82c7-229cdfdcdbb8"
   },
   "outputs": [
    {
     "name": "stdout",
     "output_type": "stream",
     "text": [
      "None\n"
     ]
    }
   ],
   "source": [
    "print(loveContainer.find(\"span\", class_= \"text\"))"
   ]
  },
  {
   "cell_type": "code",
   "execution_count": 7,
   "metadata": {
    "colab": {
     "base_uri": "https://localhost:8080/"
    },
    "id": "abbh9i7BfPwn",
    "outputId": "25a23c6d-5e47-4712-ecdb-d41e22ff53ee"
   },
   "outputs": [
    {
     "name": "stdout",
     "output_type": "stream",
     "text": [
      "None\n"
     ]
    }
   ],
   "source": [
    "print(loveContainer.find(\"div\", class_= \"quote\"))"
   ]
  },
  {
   "cell_type": "code",
   "execution_count": 8,
   "metadata": {
    "id": "-gghCwurgZkw"
   },
   "outputs": [],
   "source": [
    "loveTexts = soup.find_all(\"span\", class_= \"text\")"
   ]
  },
  {
   "cell_type": "code",
   "execution_count": 9,
   "metadata": {
    "id": "4IrGuyQTgxUg"
   },
   "outputs": [],
   "source": [
    "loveQuotes = []"
   ]
  },
  {
   "cell_type": "code",
   "execution_count": 10,
   "metadata": {
    "id": "bHMO3xRDg4jE"
   },
   "outputs": [],
   "source": [
    "for i in loveTexts:\n",
    "  loveQuotes.append(i.text)"
   ]
  },
  {
   "cell_type": "code",
   "execution_count": 11,
   "metadata": {
    "colab": {
     "base_uri": "https://localhost:8080/"
    },
    "id": "khxgtAL8hAHH",
    "outputId": "97cd7360-5fd0-4d58-b301-9d586e068164"
   },
   "outputs": [
    {
     "data": {
      "text/plain": [
       "10"
      ]
     },
     "execution_count": 11,
     "metadata": {},
     "output_type": "execute_result"
    }
   ],
   "source": [
    "len(loveQuotes)"
   ]
  },
  {
   "cell_type": "code",
   "execution_count": 12,
   "metadata": {
    "id": "AiBE581WiNxu"
   },
   "outputs": [],
   "source": [
    "quote_div = soup.find('div', class_='quote')\n",
    "href_link = quote_div.find('a')['href']"
   ]
  },
  {
   "cell_type": "code",
   "execution_count": 13,
   "metadata": {
    "colab": {
     "base_uri": "https://localhost:8080/",
     "height": 36
    },
    "id": "46KXZlXLpIsI",
    "outputId": "c8129b4a-ccf0-423e-c177-d13969d8d4a5"
   },
   "outputs": [
    {
     "data": {
      "text/plain": [
       "'/author/Andre-Gide'"
      ]
     },
     "execution_count": 13,
     "metadata": {},
     "output_type": "execute_result"
    }
   ],
   "source": [
    "href_link"
   ]
  },
  {
   "cell_type": "code",
   "execution_count": 14,
   "metadata": {
    "colab": {
     "base_uri": "https://localhost:8080/"
    },
    "id": "-4oANdd_pKV9",
    "outputId": "d87df49f-5b08-4740-d8c2-40a6a60567ca"
   },
   "outputs": [
    {
     "data": {
      "text/plain": [
       "['/author/Andre-Gide',\n",
       " '/author/Marilyn-Monroe',\n",
       " '/author/Bob-Marley',\n",
       " '/author/Elie-Wiesel',\n",
       " '/author/Friedrich-Nietzsche',\n",
       " '/author/Pablo-Neruda',\n",
       " '/author/Marilyn-Monroe',\n",
       " '/author/Marilyn-Monroe',\n",
       " '/author/James-Baldwin',\n",
       " '/author/Jane-Austen']"
      ]
     },
     "execution_count": 14,
     "metadata": {},
     "output_type": "execute_result"
    }
   ],
   "source": [
    "links = []\n",
    "for quote_div in soup.find_all('div', class_='quote'):\n",
    "    author_link = quote_div.find('a')['href']\n",
    "    links.append(author_link)\n",
    "\n",
    "links"
   ]
  },
  {
   "cell_type": "markdown",
   "metadata": {
    "id": "Tco5qnLQ-Smq"
   },
   "source": [
    "# **The First method, which will take all Author links from all quotes**\n",
    "\n",
    "\n"
   ]
  },
  {
   "cell_type": "code",
   "execution_count": 15,
   "metadata": {
    "id": "KVW1gcNt3YO-"
   },
   "outputs": [],
   "source": [
    "def GenerateLinkList(s, l):   # s- soup, l - links\n",
    "  for quote_div in s.find_all('div', class_='quote'):\n",
    "    author_link = quote_div.find('a')['href']\n",
    "    l.append(author_link)\n",
    "    #print(len(l))"
   ]
  },
  {
   "cell_type": "code",
   "execution_count": 16,
   "metadata": {
    "id": "wWQjda-St9AZ"
   },
   "outputs": [],
   "source": [
    "kt = []\n",
    "GenerateLinkList(soup, kt)\n"
   ]
  },
  {
   "cell_type": "markdown",
   "metadata": {
    "id": "y8CeojUCvJtA"
   },
   "source": [
    "Test for a single example"
   ]
  },
  {
   "cell_type": "code",
   "execution_count": 17,
   "metadata": {
    "id": "kTGCTTDmrrIh"
   },
   "outputs": [],
   "source": [
    "newlinkT = \"https://quotes.toscrape.com\" + links[0]"
   ]
  },
  {
   "cell_type": "code",
   "execution_count": 18,
   "metadata": {
    "id": "-CDbZ11zr37D"
   },
   "outputs": [],
   "source": [
    "responsT = requests.get(newlinkT)"
   ]
  },
  {
   "cell_type": "code",
   "execution_count": 19,
   "metadata": {
    "id": "fSTOqZtBsAOi"
   },
   "outputs": [],
   "source": [
    "soupT = BeautifulSoup(responsT.content, parser = \"html.parser\")"
   ]
  },
  {
   "cell_type": "code",
   "execution_count": 20,
   "metadata": {
    "id": "cYzzz1E-sGyb"
   },
   "outputs": [],
   "source": [
    "nameT = soupT.find(\"h3\", class_=\"author-title\")"
   ]
  },
  {
   "cell_type": "code",
   "execution_count": 21,
   "metadata": {
    "colab": {
     "base_uri": "https://localhost:8080/"
    },
    "id": "06L7cAGgsaOg",
    "outputId": "f62923db-edbf-45a4-c0a2-7f79098f05a2"
   },
   "outputs": [
    {
     "name": "stdout",
     "output_type": "stream",
     "text": [
      "André Gide\n"
     ]
    }
   ],
   "source": [
    "print(nameT.text)"
   ]
  },
  {
   "cell_type": "code",
   "execution_count": 22,
   "metadata": {
    "id": "W9p04cTrtNNg"
   },
   "outputs": [],
   "source": [
    "bornT = soupT.find(\"span\", class_=\"author-born-date\")"
   ]
  },
  {
   "cell_type": "code",
   "execution_count": 23,
   "metadata": {
    "colab": {
     "base_uri": "https://localhost:8080/"
    },
    "id": "DFneKQEsuToh",
    "outputId": "4174c2f0-016f-45b3-aa66-90ea701c3ad6"
   },
   "outputs": [
    {
     "name": "stdout",
     "output_type": "stream",
     "text": [
      "November 22, 1869\n"
     ]
    }
   ],
   "source": [
    "print(bornT.text)"
   ]
  },
  {
   "cell_type": "code",
   "execution_count": 24,
   "metadata": {
    "id": "ogc70UUxuWyM"
   },
   "outputs": [],
   "source": [
    "CityT = soupT.find(\"span\", class_=\"author-born-location\")"
   ]
  },
  {
   "cell_type": "code",
   "execution_count": 25,
   "metadata": {
    "colab": {
     "base_uri": "https://localhost:8080/"
    },
    "id": "lexqHjFiufm1",
    "outputId": "b693274c-ed76-45ad-a4e6-844ae76bb7ff"
   },
   "outputs": [
    {
     "name": "stdout",
     "output_type": "stream",
     "text": [
      "in Paris, France\n"
     ]
    }
   ],
   "source": [
    "print(CityT.text)"
   ]
  },
  {
   "cell_type": "code",
   "execution_count": 26,
   "metadata": {
    "id": "HDKybGBkuhe9"
   },
   "outputs": [],
   "source": [
    "descrT = soupT.find(\"div\", class_=\"author-description\")"
   ]
  },
  {
   "cell_type": "code",
   "execution_count": 27,
   "metadata": {
    "colab": {
     "base_uri": "https://localhost:8080/"
    },
    "id": "C1lWw1sJuzVi",
    "outputId": "6e1e9fc8-3d5d-4d25-e6a5-050d6e104c43"
   },
   "outputs": [
    {
     "name": "stdout",
     "output_type": "stream",
     "text": [
      "André Paul Guillaume Gide was a French author and winner of the Nobel Prize in literature in 1947. Gide's career ranged from its beginnings in the symbolist movement, to the advent of anticolonialism between the two World Wars.Known for his fiction as well as his autobiographical works, Gide exposes to public view the conflict and eventual reconciliation between the two sides of his personality, split apart by a straight-laced education and a narrow social moralism. Gide's work can be seen as an investigation of freedom and empowerment in the face of moralistic and puritan constraints, and gravitates around his continuous effort to achieve intellectual honesty. His self-exploratory texts reflect his search of how to be fully oneself, even to the point of owning one's sexual nature, without at the same time betraying one's values. His political activity is informed by the same ethos, as suggested by his repudiation of communism after his 1936 voyage to the USSR.\n"
     ]
    }
   ],
   "source": [
    "print(descrT.text.strip())"
   ]
  },
  {
   "cell_type": "markdown",
   "metadata": {
    "id": "o6kLlFKIvQDk"
   },
   "source": [
    "Apply"
   ]
  },
  {
   "cell_type": "code",
   "execution_count": 28,
   "metadata": {
    "id": "ZqhsNlWav3LB"
   },
   "outputs": [],
   "source": [
    "names = []\n",
    "bornandcity = []\n",
    "descr = []"
   ]
  },
  {
   "cell_type": "code",
   "execution_count": 29,
   "metadata": {
    "colab": {
     "base_uri": "https://localhost:8080/"
    },
    "id": "Ho9GvlfzxGM0",
    "outputId": "eb0248a8-684c-4c95-e575-dbee19a2524e"
   },
   "outputs": [
    {
     "name": "stdout",
     "output_type": "stream",
     "text": [
      "10\n",
      "10\n",
      "10\n"
     ]
    }
   ],
   "source": [
    "for i in links:\n",
    "  newResponse = requests.get(\"https://quotes.toscrape.com\" + i)\n",
    "  newSoup = BeautifulSoup(newResponse.content, parser = \"html.parser\")\n",
    "  names.append(newSoup.find(\"h3\", class_=\"author-title\").text)\n",
    "  bornInfo = newSoup.find(\"span\", class_=\"author-born-date\").text + \" \" + newSoup.find(\"span\", class_=\"author-born-location\").text\n",
    "  bornandcity.append(bornInfo)\n",
    "  descr.append(newSoup.find(\"div\", class_=\"author-description\").text.strip())\n",
    "\n",
    "\n",
    "print(len(names))\n",
    "print(len(bornandcity))\n",
    "print(len(descr))"
   ]
  },
  {
   "cell_type": "markdown",
   "metadata": {
    "id": "IkKXXH52-iHs"
   },
   "source": [
    "# **As the test worked, the second method I created for working with the links generated by the previous method**"
   ]
  },
  {
   "cell_type": "code",
   "execution_count": 30,
   "metadata": {
    "id": "lvtaXpUL4cUu"
   },
   "outputs": [],
   "source": [
    "def ScrapeNameBornDiscr(l, n, b, d):  #l-links, n - names, b - born and city, d - description\n",
    "  for i in l:\n",
    "    resp = requests.get(\"https://quotes.toscrape.com\" + i)\n",
    "    sp = BeautifulSoup(resp.content, parser = \"html.parser\")\n",
    "    n.append(sp.find(\"h3\", class_=\"author-title\").text)\n",
    "    bornInfo = sp.find(\"span\", class_=\"author-born-date\").text + \" \" + sp.find(\"span\", class_=\"author-born-location\").text\n",
    "    b.append(bornInfo)\n",
    "    d.append(sp.find(\"div\", class_=\"author-description\").text.strip())"
   ]
  },
  {
   "cell_type": "code",
   "execution_count": 31,
   "metadata": {
    "colab": {
     "base_uri": "https://localhost:8080/"
    },
    "id": "IiD4nghVxj2U",
    "outputId": "e5e2fba3-6278-4569-9a8b-4a6fe408d30d"
   },
   "outputs": [
    {
     "name": "stdout",
     "output_type": "stream",
     "text": [
      "10\n",
      "10\n",
      "10\n"
     ]
    }
   ],
   "source": [
    "print(len(names))\n",
    "print(len(bornandcity))\n",
    "print(len(descr))"
   ]
  },
  {
   "cell_type": "code",
   "execution_count": 32,
   "metadata": {
    "colab": {
     "base_uri": "https://localhost:8080/",
     "height": 36
    },
    "id": "YnPsYICaxx-9",
    "outputId": "87789693-8829-4ba1-a421-988e16c0879b"
   },
   "outputs": [
    {
     "data": {
      "text/plain": [
       "'\\n            Tags:\\n            \\nlife\\nlove\\n'"
      ]
     },
     "execution_count": 32,
     "metadata": {},
     "output_type": "execute_result"
    }
   ],
   "source": [
    "tagsTest = []\n",
    "tagT = soup.find(\"div\", class_=\"tags\")\n",
    "tagT.text"
   ]
  },
  {
   "cell_type": "code",
   "execution_count": null,
   "metadata": {
    "id": "KyHXV8lgvGzy"
   },
   "outputs": [],
   "source": []
  },
  {
   "cell_type": "code",
   "execution_count": 33,
   "metadata": {
    "id": "YzcRsRPwy9Xg"
   },
   "outputs": [],
   "source": [
    "for i in soup.find_all(\"div\", class_=\"tags\"):\n",
    "  a = \"\"\n",
    "  for j in i.find_all(\"a\", class_ = \"tag\"):\n",
    "    a = a+ j.text + \" \"\n",
    "  tagsTest.append(a)\n"
   ]
  },
  {
   "cell_type": "code",
   "execution_count": 34,
   "metadata": {
    "colab": {
     "base_uri": "https://localhost:8080/"
    },
    "id": "qQh1SD0_zN6a",
    "outputId": "6dc03721-8cbb-48d1-fb01-dcc73e9aa1d7"
   },
   "outputs": [
    {
     "data": {
      "text/plain": [
       "10"
      ]
     },
     "execution_count": 34,
     "metadata": {},
     "output_type": "execute_result"
    }
   ],
   "source": [
    "tagsTest\n",
    "len(tagsTest)"
   ]
  },
  {
   "cell_type": "markdown",
   "metadata": {
    "id": "YK1MDJ1L-z0M"
   },
   "source": [
    "# **As tag scraping logic also works, this method is for scraping Tags**\n"
   ]
  },
  {
   "cell_type": "code",
   "execution_count": 35,
   "metadata": {
    "id": "q0dwDW53522J"
   },
   "outputs": [],
   "source": [
    "def ScrapeTags(s, t): #s-soup, t-tagList\n",
    "  for i in s.find_all(\"div\", class_=\"tags\"):\n",
    "    k = \"\"\n",
    "    for j in i.find_all(\"a\", class_ = \"tag\"):\n",
    "      k= k+ j.text + \" \"\n",
    "    t.append(k)"
   ]
  },
  {
   "cell_type": "code",
   "execution_count": 36,
   "metadata": {
    "colab": {
     "base_uri": "https://localhost:8080/"
    },
    "id": "e1EYe8QOwBxc",
    "outputId": "e77bc1a1-ea92-492f-c98d-46185e95261c"
   },
   "outputs": [
    {
     "data": {
      "text/plain": [
       "10"
      ]
     },
     "execution_count": 36,
     "metadata": {},
     "output_type": "execute_result"
    }
   ],
   "source": [
    "tagsTest = []\n",
    "ScrapeTags(soup, tagsTest)\n",
    "tagsTest\n",
    "len(tagsTest)"
   ]
  },
  {
   "cell_type": "markdown",
   "metadata": {
    "id": "D2kqIoPT0LXC"
   },
   "source": [
    "# As the test in first part is sucessful, I have to apply the code to all pages"
   ]
  },
  {
   "cell_type": "code",
   "execution_count": 37,
   "metadata": {
    "colab": {
     "base_uri": "https://localhost:8080/"
    },
    "id": "_9U0TrnX0GGj",
    "outputId": "57acd6b2-882f-4940-e379-19fdf06f21a9"
   },
   "outputs": [
    {
     "data": {
      "text/plain": [
       "10"
      ]
     },
     "execution_count": 37,
     "metadata": {},
     "output_type": "execute_result"
    }
   ],
   "source": [
    "pages = []\n",
    "pages = []\n",
    "baseLink = \"https://quotes.toscrape.com/tag\"\n",
    "types = [\"/love/\", \"/inspirational/\", \"/life/\", \"/humor/\", \"/books/\", \"/friendship/\", \"/reading/\", \"/friends/\", \"/truth/\", \"/simile/\"]\n",
    "for i in types:\n",
    "  pages.append(baseLink + i)\n",
    "\n",
    "pages\n",
    "len(pages)"
   ]
  },
  {
   "cell_type": "code",
   "execution_count": 38,
   "metadata": {
    "id": "umC5Bz4A2f9v"
   },
   "outputs": [],
   "source": [
    "Quotes = []\n",
    "AuthorNames = []\n",
    "BornInfos = []\n",
    "Descriptions = []\n",
    "Tags = []\n"
   ]
  },
  {
   "cell_type": "code",
   "execution_count": 39,
   "metadata": {
    "id": "YVRGecUr1cD0"
   },
   "outputs": [],
   "source": [
    "def ScrapePages(s):\n",
    "    for j in s.find_all(\"span\", class_= \"text\"):\n",
    "      Quotes.append(j.text)\n",
    "    currentLinks = []\n",
    "    GenerateLinkList(s, currentLinks)\n",
    "    len(currentLinks)\n",
    "    ScrapeNameBornDiscr(currentLinks, AuthorNames, BornInfos, Descriptions)\n",
    "    ScrapeTags(s, Tags)\n"
   ]
  },
  {
   "cell_type": "code",
   "execution_count": 40,
   "metadata": {
    "colab": {
     "base_uri": "https://localhost:8080/"
    },
    "id": "iujIwNfM6lVr",
    "outputId": "bee10b91-a6a2-4178-a75f-28421f526357"
   },
   "outputs": [
    {
     "name": "stdout",
     "output_type": "stream",
     "text": [
      "86\n",
      "86\n",
      "86\n",
      "86\n",
      "86\n"
     ]
    }
   ],
   "source": [
    "for i in pages:\n",
    "    response = requests.get(i)\n",
    "    currentSoup = BeautifulSoup(response.content, parser = \"html.parser\")\n",
    "    ScrapePages(currentSoup)\n",
    "    if(currentSoup.find(\"li\", class_  = \"next\")):\n",
    "      k = i+\"page/2/\"\n",
    "      resp = requests.get(k)\n",
    "      currentSoup2 = BeautifulSoup(resp.content, parser = \"html.parser\")\n",
    "      ScrapePages(currentSoup2)\n",
    "\n",
    "print(len(AuthorNames))\n",
    "print(len(BornInfos))\n",
    "print(len(Quotes))\n",
    "print(len(Descriptions))\n",
    "print(len(Tags))"
   ]
  },
  {
   "cell_type": "code",
   "execution_count": 41,
   "metadata": {
    "id": "ROhSeRgW62UD"
   },
   "outputs": [],
   "source": [
    "import pandas\n",
    "df = pandas.DataFrame(data={\"Name\": AuthorNames, \"Born Info\": BornInfos, \"Description\": Descriptions, \"Quote\": Quotes, \"Tags\": Tags})\n",
    "df.to_csv(\"./file.csv\", sep=',',index=False)"
   ]
  },
  {
   "cell_type": "code",
   "execution_count": 42,
   "metadata": {
    "colab": {
     "base_uri": "https://localhost:8080/",
     "height": 423
    },
    "id": "IgEwF06j8NU-",
    "outputId": "74f6e90d-4203-459d-d72c-a77d5b4b7616"
   },
   "outputs": [
    {
     "data": {
      "text/html": [
       "<div>\n",
       "<style scoped>\n",
       "    .dataframe tbody tr th:only-of-type {\n",
       "        vertical-align: middle;\n",
       "    }\n",
       "\n",
       "    .dataframe tbody tr th {\n",
       "        vertical-align: top;\n",
       "    }\n",
       "\n",
       "    .dataframe thead th {\n",
       "        text-align: right;\n",
       "    }\n",
       "</style>\n",
       "<table border=\"1\" class=\"dataframe\">\n",
       "  <thead>\n",
       "    <tr style=\"text-align: right;\">\n",
       "      <th></th>\n",
       "      <th>Name</th>\n",
       "      <th>Born Info</th>\n",
       "      <th>Description</th>\n",
       "      <th>Quote</th>\n",
       "      <th>Tags</th>\n",
       "    </tr>\n",
       "  </thead>\n",
       "  <tbody>\n",
       "    <tr>\n",
       "      <th>0</th>\n",
       "      <td>André Gide</td>\n",
       "      <td>November 22, 1869 in Paris, France</td>\n",
       "      <td>André Paul Guillaume Gide was a French author ...</td>\n",
       "      <td>“It is better to be hated for what you are tha...</td>\n",
       "      <td>life love</td>\n",
       "    </tr>\n",
       "    <tr>\n",
       "      <th>1</th>\n",
       "      <td>Marilyn Monroe</td>\n",
       "      <td>June 01, 1926 in The United States</td>\n",
       "      <td>Marilyn Monroe (born Norma Jeane Mortenson; Ju...</td>\n",
       "      <td>“This life is what you make it. No matter what...</td>\n",
       "      <td>friends heartbreak inspirational life love sis...</td>\n",
       "    </tr>\n",
       "    <tr>\n",
       "      <th>2</th>\n",
       "      <td>Bob Marley</td>\n",
       "      <td>February 06, 1945 in Nine Mile, Saint Ann, Jam...</td>\n",
       "      <td>Robert \"Bob\" Nesta Marley OM was a Jamaican si...</td>\n",
       "      <td>“You may not be her first, her last, or her on...</td>\n",
       "      <td>love</td>\n",
       "    </tr>\n",
       "    <tr>\n",
       "      <th>3</th>\n",
       "      <td>Elie Wiesel</td>\n",
       "      <td>September 30, 1928 in Sighet, Romania</td>\n",
       "      <td>Eliezer Wiesel was a Romania-born American nov...</td>\n",
       "      <td>“The opposite of love is not hate, it's indiff...</td>\n",
       "      <td>activism apathy hate indifference inspirationa...</td>\n",
       "    </tr>\n",
       "    <tr>\n",
       "      <th>4</th>\n",
       "      <td>Friedrich Nietzsche</td>\n",
       "      <td>October 15, 1844 in Röcken bei Lützen, Prussia...</td>\n",
       "      <td>Friedrich Wilhelm Nietzsche (1844–1900) is a G...</td>\n",
       "      <td>“It is not a lack of love, but a lack of frien...</td>\n",
       "      <td>friendship lack-of-friendship lack-of-love lov...</td>\n",
       "    </tr>\n",
       "    <tr>\n",
       "      <th>...</th>\n",
       "      <td>...</td>\n",
       "      <td>...</td>\n",
       "      <td>...</td>\n",
       "      <td>...</td>\n",
       "      <td>...</td>\n",
       "    </tr>\n",
       "    <tr>\n",
       "      <th>81</th>\n",
       "      <td>J.K. Rowling</td>\n",
       "      <td>July 31, 1965 in Yate, South Gloucestershire, ...</td>\n",
       "      <td>See also: Robert GalbraithAlthough she writes ...</td>\n",
       "      <td>“The truth.\" Dumbledore sighed. \"It is a beaut...</td>\n",
       "      <td>truth</td>\n",
       "    </tr>\n",
       "    <tr>\n",
       "      <th>82</th>\n",
       "      <td>Mark Twain</td>\n",
       "      <td>November 30, 1835 in Florida, Missouri, The Un...</td>\n",
       "      <td>Samuel Langhorne Clemens, better known by his ...</td>\n",
       "      <td>“Never tell the truth to people who are not wo...</td>\n",
       "      <td>truth</td>\n",
       "    </tr>\n",
       "    <tr>\n",
       "      <th>83</th>\n",
       "      <td>Steve Martin</td>\n",
       "      <td>August 14, 1945 in Waco, Texas, The United States</td>\n",
       "      <td>Stephen Glenn \"Steve\" Martin is an American ac...</td>\n",
       "      <td>“A day without sunshine is like, you know, nig...</td>\n",
       "      <td>humor obvious simile</td>\n",
       "    </tr>\n",
       "    <tr>\n",
       "      <th>84</th>\n",
       "      <td>Albert Einstein</td>\n",
       "      <td>March 14, 1879 in Ulm, Germany</td>\n",
       "      <td>In 1879, Albert Einstein was born in Ulm, Germ...</td>\n",
       "      <td>“Life is like riding a bicycle. To keep your b...</td>\n",
       "      <td>life simile</td>\n",
       "    </tr>\n",
       "    <tr>\n",
       "      <th>85</th>\n",
       "      <td>Stephenie Meyer</td>\n",
       "      <td>December 24, 1973 in Connecticut, The United S...</td>\n",
       "      <td>I was born in Connecticut in 1973, during a br...</td>\n",
       "      <td>“He's like a drug for you, Bella.”</td>\n",
       "      <td>drug romance simile</td>\n",
       "    </tr>\n",
       "  </tbody>\n",
       "</table>\n",
       "<p>86 rows × 5 columns</p>\n",
       "</div>"
      ],
      "text/plain": [
       "                   Name                                          Born Info  \\\n",
       "0            André Gide                 November 22, 1869 in Paris, France   \n",
       "1        Marilyn Monroe                 June 01, 1926 in The United States   \n",
       "2            Bob Marley  February 06, 1945 in Nine Mile, Saint Ann, Jam...   \n",
       "3           Elie Wiesel              September 30, 1928 in Sighet, Romania   \n",
       "4   Friedrich Nietzsche  October 15, 1844 in Röcken bei Lützen, Prussia...   \n",
       "..                  ...                                                ...   \n",
       "81         J.K. Rowling  July 31, 1965 in Yate, South Gloucestershire, ...   \n",
       "82           Mark Twain  November 30, 1835 in Florida, Missouri, The Un...   \n",
       "83         Steve Martin  August 14, 1945 in Waco, Texas, The United States   \n",
       "84      Albert Einstein                     March 14, 1879 in Ulm, Germany   \n",
       "85      Stephenie Meyer  December 24, 1973 in Connecticut, The United S...   \n",
       "\n",
       "                                          Description  \\\n",
       "0   André Paul Guillaume Gide was a French author ...   \n",
       "1   Marilyn Monroe (born Norma Jeane Mortenson; Ju...   \n",
       "2   Robert \"Bob\" Nesta Marley OM was a Jamaican si...   \n",
       "3   Eliezer Wiesel was a Romania-born American nov...   \n",
       "4   Friedrich Wilhelm Nietzsche (1844–1900) is a G...   \n",
       "..                                                ...   \n",
       "81  See also: Robert GalbraithAlthough she writes ...   \n",
       "82  Samuel Langhorne Clemens, better known by his ...   \n",
       "83  Stephen Glenn \"Steve\" Martin is an American ac...   \n",
       "84  In 1879, Albert Einstein was born in Ulm, Germ...   \n",
       "85  I was born in Connecticut in 1973, during a br...   \n",
       "\n",
       "                                                Quote  \\\n",
       "0   “It is better to be hated for what you are tha...   \n",
       "1   “This life is what you make it. No matter what...   \n",
       "2   “You may not be her first, her last, or her on...   \n",
       "3   “The opposite of love is not hate, it's indiff...   \n",
       "4   “It is not a lack of love, but a lack of frien...   \n",
       "..                                                ...   \n",
       "81  “The truth.\" Dumbledore sighed. \"It is a beaut...   \n",
       "82  “Never tell the truth to people who are not wo...   \n",
       "83  “A day without sunshine is like, you know, nig...   \n",
       "84  “Life is like riding a bicycle. To keep your b...   \n",
       "85                 “He's like a drug for you, Bella.”   \n",
       "\n",
       "                                                 Tags  \n",
       "0                                          life love   \n",
       "1   friends heartbreak inspirational life love sis...  \n",
       "2                                               love   \n",
       "3   activism apathy hate indifference inspirationa...  \n",
       "4   friendship lack-of-friendship lack-of-love lov...  \n",
       "..                                                ...  \n",
       "81                                             truth   \n",
       "82                                             truth   \n",
       "83                              humor obvious simile   \n",
       "84                                       life simile   \n",
       "85                               drug romance simile   \n",
       "\n",
       "[86 rows x 5 columns]"
      ]
     },
     "execution_count": 42,
     "metadata": {},
     "output_type": "execute_result"
    }
   ],
   "source": [
    "df"
   ]
  },
  {
   "cell_type": "markdown",
   "metadata": {
    "id": "9qLvTUCp8OjJ"
   },
   "source": [
    "# **When I opened pages via buttons on the right side, the number of total quotes was 86. But quotes on the mane page are 100. Here I will scrape them too.**"
   ]
  },
  {
   "cell_type": "code",
   "execution_count": 43,
   "metadata": {
    "colab": {
     "base_uri": "https://localhost:8080/"
    },
    "id": "ZrVKjF8I7JmY",
    "outputId": "df93948a-5649-4887-ef66-97afdae1e9b0"
   },
   "outputs": [
    {
     "name": "stdout",
     "output_type": "stream",
     "text": [
      "100\n",
      "100\n",
      "100\n",
      "100\n",
      "100\n"
     ]
    }
   ],
   "source": [
    "Quotes = []\n",
    "AuthorNames = []\n",
    "BornInfos = []\n",
    "Descriptions = []\n",
    "Tags = []\n",
    "baseL = \"https://quotes.toscrape.com/page/\"\n",
    "for i in range(1, 11):\n",
    "  cLink = baseL + str(i) + \"/\"\n",
    "  response = requests.get(cLink)\n",
    "  currentSoup = BeautifulSoup(response.content, parser = \"html.parser\")\n",
    "  ScrapePages(currentSoup)\n",
    "\n",
    "print(len(AuthorNames))\n",
    "print(len(BornInfos))\n",
    "print(len(Quotes))\n",
    "print(len(Descriptions))\n",
    "print(len(Tags))\n"
   ]
  },
  {
   "cell_type": "code",
   "execution_count": 44,
   "metadata": {
    "id": "7llzzJf79WRV"
   },
   "outputs": [],
   "source": [
    "df2 = pandas.DataFrame(data={\"Name\": AuthorNames, \"Born Info\": BornInfos, \"Description\": Descriptions, \"Quote\": Quotes, \"Tags\": Tags})\n",
    "df2.to_csv(\"./secondfile.csv\", sep=',',index=False)"
   ]
  },
  {
   "cell_type": "code",
   "execution_count": 45,
   "metadata": {
    "colab": {
     "base_uri": "https://localhost:8080/",
     "height": 423
    },
    "id": "YME4xpjC_Dwo",
    "outputId": "7082d72f-17f4-4679-eeba-ed5ca053748b"
   },
   "outputs": [
    {
     "data": {
      "text/html": [
       "<div>\n",
       "<style scoped>\n",
       "    .dataframe tbody tr th:only-of-type {\n",
       "        vertical-align: middle;\n",
       "    }\n",
       "\n",
       "    .dataframe tbody tr th {\n",
       "        vertical-align: top;\n",
       "    }\n",
       "\n",
       "    .dataframe thead th {\n",
       "        text-align: right;\n",
       "    }\n",
       "</style>\n",
       "<table border=\"1\" class=\"dataframe\">\n",
       "  <thead>\n",
       "    <tr style=\"text-align: right;\">\n",
       "      <th></th>\n",
       "      <th>Name</th>\n",
       "      <th>Born Info</th>\n",
       "      <th>Description</th>\n",
       "      <th>Quote</th>\n",
       "      <th>Tags</th>\n",
       "    </tr>\n",
       "  </thead>\n",
       "  <tbody>\n",
       "    <tr>\n",
       "      <th>0</th>\n",
       "      <td>Albert Einstein</td>\n",
       "      <td>March 14, 1879 in Ulm, Germany</td>\n",
       "      <td>In 1879, Albert Einstein was born in Ulm, Germ...</td>\n",
       "      <td>“The world as we have created it is a process ...</td>\n",
       "      <td>change deep-thoughts thinking world</td>\n",
       "    </tr>\n",
       "    <tr>\n",
       "      <th>1</th>\n",
       "      <td>J.K. Rowling</td>\n",
       "      <td>July 31, 1965 in Yate, South Gloucestershire, ...</td>\n",
       "      <td>See also: Robert GalbraithAlthough she writes ...</td>\n",
       "      <td>“It is our choices, Harry, that show what we t...</td>\n",
       "      <td>abilities choices</td>\n",
       "    </tr>\n",
       "    <tr>\n",
       "      <th>2</th>\n",
       "      <td>Albert Einstein</td>\n",
       "      <td>March 14, 1879 in Ulm, Germany</td>\n",
       "      <td>In 1879, Albert Einstein was born in Ulm, Germ...</td>\n",
       "      <td>“There are only two ways to live your life. On...</td>\n",
       "      <td>inspirational life live miracle miracles</td>\n",
       "    </tr>\n",
       "    <tr>\n",
       "      <th>3</th>\n",
       "      <td>Jane Austen</td>\n",
       "      <td>December 16, 1775 in Steventon Rectory, Hampsh...</td>\n",
       "      <td>Jane Austen was an English novelist whose work...</td>\n",
       "      <td>“The person, be it gentleman or lady, who has ...</td>\n",
       "      <td>aliteracy books classic humor</td>\n",
       "    </tr>\n",
       "    <tr>\n",
       "      <th>4</th>\n",
       "      <td>Marilyn Monroe</td>\n",
       "      <td>June 01, 1926 in The United States</td>\n",
       "      <td>Marilyn Monroe (born Norma Jeane Mortenson; Ju...</td>\n",
       "      <td>“Imperfection is beauty, madness is genius and...</td>\n",
       "      <td>be-yourself inspirational</td>\n",
       "    </tr>\n",
       "    <tr>\n",
       "      <th>...</th>\n",
       "      <td>...</td>\n",
       "      <td>...</td>\n",
       "      <td>...</td>\n",
       "      <td>...</td>\n",
       "      <td>...</td>\n",
       "    </tr>\n",
       "    <tr>\n",
       "      <th>95</th>\n",
       "      <td>Harper Lee</td>\n",
       "      <td>April 28, 1926 in Monroeville, Alabama, The Un...</td>\n",
       "      <td>Harper Lee, known as Nelle, was born in the Al...</td>\n",
       "      <td>“You never really understand a person until yo...</td>\n",
       "      <td>better-life-empathy</td>\n",
       "    </tr>\n",
       "    <tr>\n",
       "      <th>96</th>\n",
       "      <td>Madeleine L'Engle</td>\n",
       "      <td>November 29, 1918 in New York City, New York, ...</td>\n",
       "      <td>Madeleine L'Engle was an American writer best ...</td>\n",
       "      <td>“You have to write the book that wants to be w...</td>\n",
       "      <td>books children difficult grown-ups write write...</td>\n",
       "    </tr>\n",
       "    <tr>\n",
       "      <th>97</th>\n",
       "      <td>Mark Twain</td>\n",
       "      <td>November 30, 1835 in Florida, Missouri, The Un...</td>\n",
       "      <td>Samuel Langhorne Clemens, better known by his ...</td>\n",
       "      <td>“Never tell the truth to people who are not wo...</td>\n",
       "      <td>truth</td>\n",
       "    </tr>\n",
       "    <tr>\n",
       "      <th>98</th>\n",
       "      <td>Dr. Seuss</td>\n",
       "      <td>March 02, 1904 in Springfield, MA, The United ...</td>\n",
       "      <td>Theodor Seuss Geisel was born 2 March 1904 in ...</td>\n",
       "      <td>“A person's a person, no matter how small.”</td>\n",
       "      <td>inspirational</td>\n",
       "    </tr>\n",
       "    <tr>\n",
       "      <th>99</th>\n",
       "      <td>George R.R. Martin</td>\n",
       "      <td>September 20, 1948 in Bayonne, New Jersey, The...</td>\n",
       "      <td>George R. R. Martin was born September 20, 194...</td>\n",
       "      <td>“... a mind needs books as a sword needs a whe...</td>\n",
       "      <td>books mind</td>\n",
       "    </tr>\n",
       "  </tbody>\n",
       "</table>\n",
       "<p>100 rows × 5 columns</p>\n",
       "</div>"
      ],
      "text/plain": [
       "                  Name                                          Born Info  \\\n",
       "0      Albert Einstein                     March 14, 1879 in Ulm, Germany   \n",
       "1         J.K. Rowling  July 31, 1965 in Yate, South Gloucestershire, ...   \n",
       "2      Albert Einstein                     March 14, 1879 in Ulm, Germany   \n",
       "3          Jane Austen  December 16, 1775 in Steventon Rectory, Hampsh...   \n",
       "4       Marilyn Monroe                 June 01, 1926 in The United States   \n",
       "..                 ...                                                ...   \n",
       "95          Harper Lee  April 28, 1926 in Monroeville, Alabama, The Un...   \n",
       "96   Madeleine L'Engle  November 29, 1918 in New York City, New York, ...   \n",
       "97          Mark Twain  November 30, 1835 in Florida, Missouri, The Un...   \n",
       "98           Dr. Seuss  March 02, 1904 in Springfield, MA, The United ...   \n",
       "99  George R.R. Martin  September 20, 1948 in Bayonne, New Jersey, The...   \n",
       "\n",
       "                                          Description  \\\n",
       "0   In 1879, Albert Einstein was born in Ulm, Germ...   \n",
       "1   See also: Robert GalbraithAlthough she writes ...   \n",
       "2   In 1879, Albert Einstein was born in Ulm, Germ...   \n",
       "3   Jane Austen was an English novelist whose work...   \n",
       "4   Marilyn Monroe (born Norma Jeane Mortenson; Ju...   \n",
       "..                                                ...   \n",
       "95  Harper Lee, known as Nelle, was born in the Al...   \n",
       "96  Madeleine L'Engle was an American writer best ...   \n",
       "97  Samuel Langhorne Clemens, better known by his ...   \n",
       "98  Theodor Seuss Geisel was born 2 March 1904 in ...   \n",
       "99  George R. R. Martin was born September 20, 194...   \n",
       "\n",
       "                                                Quote  \\\n",
       "0   “The world as we have created it is a process ...   \n",
       "1   “It is our choices, Harry, that show what we t...   \n",
       "2   “There are only two ways to live your life. On...   \n",
       "3   “The person, be it gentleman or lady, who has ...   \n",
       "4   “Imperfection is beauty, madness is genius and...   \n",
       "..                                                ...   \n",
       "95  “You never really understand a person until yo...   \n",
       "96  “You have to write the book that wants to be w...   \n",
       "97  “Never tell the truth to people who are not wo...   \n",
       "98        “A person's a person, no matter how small.”   \n",
       "99  “... a mind needs books as a sword needs a whe...   \n",
       "\n",
       "                                                 Tags  \n",
       "0                change deep-thoughts thinking world   \n",
       "1                                  abilities choices   \n",
       "2           inspirational life live miracle miracles   \n",
       "3                      aliteracy books classic humor   \n",
       "4                          be-yourself inspirational   \n",
       "..                                                ...  \n",
       "95                               better-life-empathy   \n",
       "96  books children difficult grown-ups write write...  \n",
       "97                                             truth   \n",
       "98                                     inspirational   \n",
       "99                                        books mind   \n",
       "\n",
       "[100 rows x 5 columns]"
      ]
     },
     "execution_count": 45,
     "metadata": {},
     "output_type": "execute_result"
    }
   ],
   "source": [
    "df2"
   ]
  },
  {
   "cell_type": "markdown",
   "metadata": {
    "id": "cUliVbrA_L0K"
   },
   "source": [
    "# **<font color='blue'> To enhance the flexibility of the code, it would be better to structure it in a way that allows for dynamic handling of pages, removing the need to predefine the total number. </font>**"
   ]
  }
 ],
 "metadata": {
  "colab": {
   "provenance": []
  },
  "kernelspec": {
   "display_name": "Python 3 (ipykernel)",
   "language": "python",
   "name": "python3"
  },
  "language_info": {
   "codemirror_mode": {
    "name": "ipython",
    "version": 3
   },
   "file_extension": ".py",
   "mimetype": "text/x-python",
   "name": "python",
   "nbconvert_exporter": "python",
   "pygments_lexer": "ipython3",
   "version": "3.11.5"
  }
 },
 "nbformat": 4,
 "nbformat_minor": 1
}
