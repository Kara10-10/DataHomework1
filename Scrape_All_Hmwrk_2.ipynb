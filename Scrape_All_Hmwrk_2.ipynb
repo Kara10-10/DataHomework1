{
  "nbformat": 4,
  "nbformat_minor": 0,
  "metadata": {
    "colab": {
      "provenance": []
    },
    "kernelspec": {
      "name": "python3",
      "display_name": "Python 3"
    },
    "language_info": {
      "name": "python"
    }
  },
  "cells": [
    {
      "cell_type": "code",
      "execution_count": 1,
      "metadata": {
        "id": "QEyvI5ysd2UV"
      },
      "outputs": [],
      "source": [
        "from bs4 import BeautifulSoup\n",
        "import requests"
      ]
    },
    {
      "cell_type": "markdown",
      "source": [
        "# **This is the first part, here I was trying to complete the task on one page, if something was true, I was creating a method for keeping the algorythm**"
      ],
      "metadata": {
        "id": "HdbfCqZW9zzx"
      }
    },
    {
      "cell_type": "code",
      "source": [
        "respons = requests.get(\"https://quotes.toscrape.com/tag/love/\")"
      ],
      "metadata": {
        "id": "er4Yvifad8Dx"
      },
      "execution_count": 2,
      "outputs": []
    },
    {
      "cell_type": "code",
      "source": [
        "soup = BeautifulSoup(respons.content, parser = \"html.parser\")"
      ],
      "metadata": {
        "id": "ABxcquMMeM1p"
      },
      "execution_count": 3,
      "outputs": []
    },
    {
      "cell_type": "code",
      "source": [
        "loveContainer = soup.find(\"div\", class_ = \"col-md-8\")"
      ],
      "metadata": {
        "id": "ns_CDkT_eO65"
      },
      "execution_count": 4,
      "outputs": []
    },
    {
      "cell_type": "code",
      "source": [
        "loveContainer"
      ],
      "metadata": {
        "colab": {
          "base_uri": "https://localhost:8080/"
        },
        "id": "ULysVUk3emM1",
        "outputId": "89b101e0-86cb-4ed8-be18-62d9ef469a2c"
      },
      "execution_count": 5,
      "outputs": [
        {
          "output_type": "execute_result",
          "data": {
            "text/plain": [
              "<div class=\"col-md-8\">\n",
              "<h1>\n",
              "<a href=\"/\" style=\"text-decoration: none\">Quotes to Scrape</a>\n",
              "</h1>\n",
              "</div>"
            ]
          },
          "metadata": {},
          "execution_count": 5
        }
      ]
    },
    {
      "cell_type": "code",
      "source": [
        "print(loveContainer.find(\"span\", class_= \"text\"))"
      ],
      "metadata": {
        "colab": {
          "base_uri": "https://localhost:8080/"
        },
        "id": "8NVqOR8kexj2",
        "outputId": "0a92feb3-4e3f-414b-82c7-229cdfdcdbb8"
      },
      "execution_count": 6,
      "outputs": [
        {
          "output_type": "stream",
          "name": "stdout",
          "text": [
            "None\n"
          ]
        }
      ]
    },
    {
      "cell_type": "code",
      "source": [
        "print(loveContainer.find(\"div\", class_= \"quote\"))"
      ],
      "metadata": {
        "colab": {
          "base_uri": "https://localhost:8080/"
        },
        "id": "abbh9i7BfPwn",
        "outputId": "25a23c6d-5e47-4712-ecdb-d41e22ff53ee"
      },
      "execution_count": 7,
      "outputs": [
        {
          "output_type": "stream",
          "name": "stdout",
          "text": [
            "None\n"
          ]
        }
      ]
    },
    {
      "cell_type": "code",
      "source": [
        "loveTexts = soup.find_all(\"span\", class_= \"text\")"
      ],
      "metadata": {
        "id": "-gghCwurgZkw"
      },
      "execution_count": 8,
      "outputs": []
    },
    {
      "cell_type": "code",
      "source": [
        "loveQuotes = []"
      ],
      "metadata": {
        "id": "4IrGuyQTgxUg"
      },
      "execution_count": 9,
      "outputs": []
    },
    {
      "cell_type": "code",
      "source": [
        "for i in loveTexts:\n",
        "  loveQuotes.append(i.text)"
      ],
      "metadata": {
        "id": "bHMO3xRDg4jE"
      },
      "execution_count": 10,
      "outputs": []
    },
    {
      "cell_type": "code",
      "source": [
        "len(loveQuotes)"
      ],
      "metadata": {
        "colab": {
          "base_uri": "https://localhost:8080/"
        },
        "id": "khxgtAL8hAHH",
        "outputId": "97cd7360-5fd0-4d58-b301-9d586e068164"
      },
      "execution_count": 11,
      "outputs": [
        {
          "output_type": "execute_result",
          "data": {
            "text/plain": [
              "10"
            ]
          },
          "metadata": {},
          "execution_count": 11
        }
      ]
    },
    {
      "cell_type": "code",
      "source": [
        "quote_div = soup.find('div', class_='quote')\n",
        "href_link = quote_div.find('a')['href']"
      ],
      "metadata": {
        "id": "AiBE581WiNxu"
      },
      "execution_count": 12,
      "outputs": []
    },
    {
      "cell_type": "code",
      "source": [
        "href_link"
      ],
      "metadata": {
        "colab": {
          "base_uri": "https://localhost:8080/",
          "height": 36
        },
        "id": "46KXZlXLpIsI",
        "outputId": "c8129b4a-ccf0-423e-c177-d13969d8d4a5"
      },
      "execution_count": 13,
      "outputs": [
        {
          "output_type": "execute_result",
          "data": {
            "text/plain": [
              "'/author/Andre-Gide'"
            ],
            "application/vnd.google.colaboratory.intrinsic+json": {
              "type": "string"
            }
          },
          "metadata": {},
          "execution_count": 13
        }
      ]
    },
    {
      "cell_type": "code",
      "source": [
        "links = []\n",
        "for quote_div in soup.find_all('div', class_='quote'):\n",
        "    author_link = quote_div.find('a')['href']\n",
        "    links.append(author_link)\n",
        "\n",
        "links"
      ],
      "metadata": {
        "colab": {
          "base_uri": "https://localhost:8080/"
        },
        "id": "-4oANdd_pKV9",
        "outputId": "d87df49f-5b08-4740-d8c2-40a6a60567ca"
      },
      "execution_count": 14,
      "outputs": [
        {
          "output_type": "execute_result",
          "data": {
            "text/plain": [
              "['/author/Andre-Gide',\n",
              " '/author/Marilyn-Monroe',\n",
              " '/author/Bob-Marley',\n",
              " '/author/Elie-Wiesel',\n",
              " '/author/Friedrich-Nietzsche',\n",
              " '/author/Pablo-Neruda',\n",
              " '/author/Marilyn-Monroe',\n",
              " '/author/Marilyn-Monroe',\n",
              " '/author/James-Baldwin',\n",
              " '/author/Jane-Austen']"
            ]
          },
          "metadata": {},
          "execution_count": 14
        }
      ]
    },
    {
      "cell_type": "markdown",
      "source": [
        "# **The First method, which will take all Author links from all quotes**\n",
        "\n",
        "\n"
      ],
      "metadata": {
        "id": "Tco5qnLQ-Smq"
      }
    },
    {
      "cell_type": "code",
      "source": [
        "def GenerateLinkList(s, l):   # s- soup, l - links\n",
        "  for quote_div in s.find_all('div', class_='quote'):\n",
        "    author_link = quote_div.find('a')['href']\n",
        "    l.append(author_link)\n",
        "    #print(len(l))"
      ],
      "metadata": {
        "id": "KVW1gcNt3YO-"
      },
      "execution_count": 15,
      "outputs": []
    },
    {
      "cell_type": "code",
      "source": [
        "kt = []\n",
        "GenerateLinkList(soup, kt)\n"
      ],
      "metadata": {
        "id": "wWQjda-St9AZ"
      },
      "execution_count": 16,
      "outputs": []
    },
    {
      "cell_type": "markdown",
      "source": [
        "Test for a single example"
      ],
      "metadata": {
        "id": "y8CeojUCvJtA"
      }
    },
    {
      "cell_type": "code",
      "source": [
        "newlinkT = \"https://quotes.toscrape.com\" + links[0]"
      ],
      "metadata": {
        "id": "kTGCTTDmrrIh"
      },
      "execution_count": 17,
      "outputs": []
    },
    {
      "cell_type": "code",
      "source": [
        "responsT = requests.get(newlinkT)"
      ],
      "metadata": {
        "id": "-CDbZ11zr37D"
      },
      "execution_count": 18,
      "outputs": []
    },
    {
      "cell_type": "code",
      "source": [
        "soupT = BeautifulSoup(responsT.content, parser = \"html.parser\")"
      ],
      "metadata": {
        "id": "fSTOqZtBsAOi",
        "collapsed": true
      },
      "execution_count": 19,
      "outputs": []
    },
    {
      "cell_type": "code",
      "source": [
        "nameT = soupT.find(\"h3\", class_=\"author-title\")"
      ],
      "metadata": {
        "id": "cYzzz1E-sGyb"
      },
      "execution_count": 20,
      "outputs": []
    },
    {
      "cell_type": "code",
      "source": [
        "print(nameT.text)"
      ],
      "metadata": {
        "colab": {
          "base_uri": "https://localhost:8080/"
        },
        "id": "06L7cAGgsaOg",
        "outputId": "f62923db-edbf-45a4-c0a2-7f79098f05a2"
      },
      "execution_count": 21,
      "outputs": [
        {
          "output_type": "stream",
          "name": "stdout",
          "text": [
            "André Gide\n"
          ]
        }
      ]
    },
    {
      "cell_type": "code",
      "source": [
        "bornT = soupT.find(\"span\", class_=\"author-born-date\")"
      ],
      "metadata": {
        "id": "W9p04cTrtNNg"
      },
      "execution_count": 22,
      "outputs": []
    },
    {
      "cell_type": "code",
      "source": [
        "print(bornT.text)"
      ],
      "metadata": {
        "colab": {
          "base_uri": "https://localhost:8080/"
        },
        "id": "DFneKQEsuToh",
        "outputId": "4174c2f0-016f-45b3-aa66-90ea701c3ad6"
      },
      "execution_count": 23,
      "outputs": [
        {
          "output_type": "stream",
          "name": "stdout",
          "text": [
            "November 22, 1869\n"
          ]
        }
      ]
    },
    {
      "cell_type": "code",
      "source": [
        "CityT = soupT.find(\"span\", class_=\"author-born-location\")"
      ],
      "metadata": {
        "id": "ogc70UUxuWyM"
      },
      "execution_count": 24,
      "outputs": []
    },
    {
      "cell_type": "code",
      "source": [
        "print(CityT.text)"
      ],
      "metadata": {
        "colab": {
          "base_uri": "https://localhost:8080/"
        },
        "id": "lexqHjFiufm1",
        "outputId": "b693274c-ed76-45ad-a4e6-844ae76bb7ff"
      },
      "execution_count": 25,
      "outputs": [
        {
          "output_type": "stream",
          "name": "stdout",
          "text": [
            "in Paris, France\n"
          ]
        }
      ]
    },
    {
      "cell_type": "code",
      "source": [
        "descrT = soupT.find(\"div\", class_=\"author-description\")"
      ],
      "metadata": {
        "id": "HDKybGBkuhe9"
      },
      "execution_count": 26,
      "outputs": []
    },
    {
      "cell_type": "code",
      "source": [
        "print(descrT.text.strip())"
      ],
      "metadata": {
        "colab": {
          "base_uri": "https://localhost:8080/"
        },
        "id": "C1lWw1sJuzVi",
        "outputId": "6e1e9fc8-3d5d-4d25-e6a5-050d6e104c43"
      },
      "execution_count": 27,
      "outputs": [
        {
          "output_type": "stream",
          "name": "stdout",
          "text": [
            "André Paul Guillaume Gide was a French author and winner of the Nobel Prize in literature in 1947. Gide's career ranged from its beginnings in the symbolist movement, to the advent of anticolonialism between the two World Wars.Known for his fiction as well as his autobiographical works, Gide exposes to public view the conflict and eventual reconciliation between the two sides of his personality, split apart by a straight-laced education and a narrow social moralism. Gide's work can be seen as an investigation of freedom and empowerment in the face of moralistic and puritan constraints, and gravitates around his continuous effort to achieve intellectual honesty. His self-exploratory texts reflect his search of how to be fully oneself, even to the point of owning one's sexual nature, without at the same time betraying one's values. His political activity is informed by the same ethos, as suggested by his repudiation of communism after his 1936 voyage to the USSR.\n"
          ]
        }
      ]
    },
    {
      "cell_type": "markdown",
      "source": [
        "Apply"
      ],
      "metadata": {
        "id": "o6kLlFKIvQDk"
      }
    },
    {
      "cell_type": "code",
      "source": [
        "names = []\n",
        "bornandcity = []\n",
        "descr = []"
      ],
      "metadata": {
        "id": "ZqhsNlWav3LB"
      },
      "execution_count": 28,
      "outputs": []
    },
    {
      "cell_type": "code",
      "source": [
        "for i in links:\n",
        "  newResponse = requests.get(\"https://quotes.toscrape.com\" + i)\n",
        "  newSoup = BeautifulSoup(newResponse.content, parser = \"html.parser\")\n",
        "  names.append(newSoup.find(\"h3\", class_=\"author-title\").text)\n",
        "  bornInfo = newSoup.find(\"span\", class_=\"author-born-date\").text + \" \" + newSoup.find(\"span\", class_=\"author-born-location\").text\n",
        "  bornandcity.append(bornInfo)\n",
        "  descr.append(newSoup.find(\"div\", class_=\"author-description\").text.strip())\n",
        "\n",
        "\n",
        "print(len(names))\n",
        "print(len(bornandcity))\n",
        "print(len(descr))"
      ],
      "metadata": {
        "colab": {
          "base_uri": "https://localhost:8080/"
        },
        "collapsed": true,
        "id": "Ho9GvlfzxGM0",
        "outputId": "eb0248a8-684c-4c95-e575-dbee19a2524e"
      },
      "execution_count": 29,
      "outputs": [
        {
          "output_type": "stream",
          "name": "stdout",
          "text": [
            "10\n",
            "10\n",
            "10\n"
          ]
        }
      ]
    },
    {
      "cell_type": "markdown",
      "source": [
        "# **As the test worked, the second method I created for working with the links generated by the previous method**"
      ],
      "metadata": {
        "id": "IkKXXH52-iHs"
      }
    },
    {
      "cell_type": "code",
      "source": [
        "def ScrapeNameBornDiscr(l, n, b, d):  #l-links, n - names, b - born and city, d - description\n",
        "  for i in l:\n",
        "    resp = requests.get(\"https://quotes.toscrape.com\" + i)\n",
        "    sp = BeautifulSoup(resp.content, parser = \"html.parser\")\n",
        "    n.append(sp.find(\"h3\", class_=\"author-title\").text)\n",
        "    bornInfo = sp.find(\"span\", class_=\"author-born-date\").text + \" \" + sp.find(\"span\", class_=\"author-born-location\").text\n",
        "    b.append(bornInfo)\n",
        "    d.append(sp.find(\"div\", class_=\"author-description\").text.strip())"
      ],
      "metadata": {
        "id": "lvtaXpUL4cUu"
      },
      "execution_count": 30,
      "outputs": []
    },
    {
      "cell_type": "code",
      "source": [
        "print(len(names))\n",
        "print(len(bornandcity))\n",
        "print(len(descr))"
      ],
      "metadata": {
        "colab": {
          "base_uri": "https://localhost:8080/"
        },
        "id": "IiD4nghVxj2U",
        "outputId": "e5e2fba3-6278-4569-9a8b-4a6fe408d30d"
      },
      "execution_count": 31,
      "outputs": [
        {
          "output_type": "stream",
          "name": "stdout",
          "text": [
            "10\n",
            "10\n",
            "10\n"
          ]
        }
      ]
    },
    {
      "cell_type": "code",
      "source": [
        "tagsTest = []\n",
        "tagT = soup.find(\"div\", class_=\"tags\")\n",
        "tagT.text"
      ],
      "metadata": {
        "colab": {
          "base_uri": "https://localhost:8080/",
          "height": 36
        },
        "id": "YnPsYICaxx-9",
        "outputId": "87789693-8829-4ba1-a421-988e16c0879b"
      },
      "execution_count": 32,
      "outputs": [
        {
          "output_type": "execute_result",
          "data": {
            "text/plain": [
              "'\\n            Tags:\\n            \\nlife\\nlove\\n'"
            ],
            "application/vnd.google.colaboratory.intrinsic+json": {
              "type": "string"
            }
          },
          "metadata": {},
          "execution_count": 32
        }
      ]
    },
    {
      "cell_type": "code",
      "source": [],
      "metadata": {
        "id": "KyHXV8lgvGzy"
      },
      "execution_count": 32,
      "outputs": []
    },
    {
      "cell_type": "code",
      "source": [
        "for i in soup.find_all(\"div\", class_=\"tags\"):\n",
        "  a = \"\"\n",
        "  for j in i.find_all(\"a\", class_ = \"tag\"):\n",
        "    a = a+ j.text + \" \"\n",
        "  tagsTest.append(a)\n"
      ],
      "metadata": {
        "id": "YzcRsRPwy9Xg"
      },
      "execution_count": 33,
      "outputs": []
    },
    {
      "cell_type": "code",
      "source": [
        "tagsTest\n",
        "len(tagsTest)"
      ],
      "metadata": {
        "colab": {
          "base_uri": "https://localhost:8080/"
        },
        "id": "qQh1SD0_zN6a",
        "outputId": "6dc03721-8cbb-48d1-fb01-dcc73e9aa1d7"
      },
      "execution_count": 34,
      "outputs": [
        {
          "output_type": "execute_result",
          "data": {
            "text/plain": [
              "10"
            ]
          },
          "metadata": {},
          "execution_count": 34
        }
      ]
    },
    {
      "cell_type": "markdown",
      "source": [
        "# **As tag scraping logic also works, this method is for scraping Tags**\n"
      ],
      "metadata": {
        "id": "YK1MDJ1L-z0M"
      }
    },
    {
      "cell_type": "code",
      "source": [
        "def ScrapeTags(s, t): #s-soup, t-tagList\n",
        "  for i in s.find_all(\"div\", class_=\"tags\"):\n",
        "    k = \"\"\n",
        "    for j in i.find_all(\"a\", class_ = \"tag\"):\n",
        "      k= k+ j.text + \" \"\n",
        "    t.append(k)"
      ],
      "metadata": {
        "id": "q0dwDW53522J"
      },
      "execution_count": 35,
      "outputs": []
    },
    {
      "cell_type": "code",
      "source": [
        "tagsTest = []\n",
        "ScrapeTags(soup, tagsTest)\n",
        "tagsTest\n",
        "len(tagsTest)"
      ],
      "metadata": {
        "colab": {
          "base_uri": "https://localhost:8080/"
        },
        "id": "e1EYe8QOwBxc",
        "outputId": "e77bc1a1-ea92-492f-c98d-46185e95261c"
      },
      "execution_count": 36,
      "outputs": [
        {
          "output_type": "execute_result",
          "data": {
            "text/plain": [
              "10"
            ]
          },
          "metadata": {},
          "execution_count": 36
        }
      ]
    },
    {
      "cell_type": "markdown",
      "source": [
        "# As the test in first part is sucessful, I have to apply the code to all pages"
      ],
      "metadata": {
        "id": "D2kqIoPT0LXC"
      }
    },
    {
      "cell_type": "code",
      "source": [
        "pages = []\n",
        "pages = []\n",
        "baseLink = \"https://quotes.toscrape.com/tag\"\n",
        "types = [\"/love/\", \"/inspirational/\", \"/life/\", \"/humor/\", \"/books/\", \"/friendship/\", \"/reading/\", \"/friends/\", \"/truth/\", \"/simile/\"]\n",
        "for i in types:\n",
        "  pages.append(baseLink + i)\n",
        "\n",
        "pages\n",
        "len(pages)"
      ],
      "metadata": {
        "colab": {
          "base_uri": "https://localhost:8080/"
        },
        "id": "_9U0TrnX0GGj",
        "outputId": "57acd6b2-882f-4940-e379-19fdf06f21a9"
      },
      "execution_count": 37,
      "outputs": [
        {
          "output_type": "execute_result",
          "data": {
            "text/plain": [
              "10"
            ]
          },
          "metadata": {},
          "execution_count": 37
        }
      ]
    },
    {
      "cell_type": "code",
      "source": [
        "Quotes = []\n",
        "AuthorNames = []\n",
        "BornInfos = []\n",
        "Descriptions = []\n",
        "Tags = []\n"
      ],
      "metadata": {
        "id": "umC5Bz4A2f9v"
      },
      "execution_count": 38,
      "outputs": []
    },
    {
      "cell_type": "code",
      "source": [
        "def ScrapePages(s):\n",
        "    for j in s.find_all(\"span\", class_= \"text\"):\n",
        "      Quotes.append(j.text)\n",
        "    currentLinks = []\n",
        "    GenerateLinkList(s, currentLinks)\n",
        "    len(currentLinks)\n",
        "    ScrapeNameBornDiscr(currentLinks, AuthorNames, BornInfos, Descriptions)\n",
        "    ScrapeTags(s, Tags)\n"
      ],
      "metadata": {
        "id": "YVRGecUr1cD0"
      },
      "execution_count": 39,
      "outputs": []
    },
    {
      "cell_type": "code",
      "source": [
        "for i in pages:\n",
        "    response = requests.get(i)\n",
        "    currentSoup = BeautifulSoup(response.content, parser = \"html.parser\")\n",
        "    ScrapePages(currentSoup)\n",
        "    if(currentSoup.find(\"li\", class_  = \"next\")):\n",
        "      k = i+\"page/2/\"\n",
        "      resp = requests.get(k)\n",
        "      currentSoup2 = BeautifulSoup(resp.content, parser = \"html.parser\")\n",
        "      ScrapePages(currentSoup2)\n",
        "\n",
        "print(len(AuthorNames))\n",
        "print(len(BornInfos))\n",
        "print(len(Quotes))\n",
        "print(len(Descriptions))\n",
        "print(len(Tags))"
      ],
      "metadata": {
        "colab": {
          "base_uri": "https://localhost:8080/"
        },
        "id": "iujIwNfM6lVr",
        "outputId": "bee10b91-a6a2-4178-a75f-28421f526357"
      },
      "execution_count": 40,
      "outputs": [
        {
          "output_type": "stream",
          "name": "stdout",
          "text": [
            "86\n",
            "86\n",
            "86\n",
            "86\n",
            "86\n"
          ]
        }
      ]
    },
    {
      "cell_type": "code",
      "source": [
        "import pandas\n",
        "df = pandas.DataFrame(data={\"Name\": AuthorNames, \"Born Info\": BornInfos, \"Description\": Descriptions, \"Quote\": Quotes, \"Tags\": Tags})\n",
        "df.to_csv(\"./file.csv\", sep=',',index=False)"
      ],
      "metadata": {
        "id": "ROhSeRgW62UD"
      },
      "execution_count": 41,
      "outputs": []
    },
    {
      "cell_type": "code",
      "source": [
        "df"
      ],
      "metadata": {
        "colab": {
          "base_uri": "https://localhost:8080/",
          "height": 423
        },
        "id": "IgEwF06j8NU-",
        "outputId": "74f6e90d-4203-459d-d72c-a77d5b4b7616"
      },
      "execution_count": 42,
      "outputs": [
        {
          "output_type": "execute_result",
          "data": {
            "text/plain": [
              "                   Name                                          Born Info  \\\n",
              "0            André Gide                 November 22, 1869 in Paris, France   \n",
              "1        Marilyn Monroe                 June 01, 1926 in The United States   \n",
              "2            Bob Marley  February 06, 1945 in Nine Mile, Saint Ann, Jam...   \n",
              "3           Elie Wiesel              September 30, 1928 in Sighet, Romania   \n",
              "4   Friedrich Nietzsche  October 15, 1844 in Röcken bei Lützen, Prussia...   \n",
              "..                  ...                                                ...   \n",
              "81         J.K. Rowling  July 31, 1965 in Yate, South Gloucestershire, ...   \n",
              "82           Mark Twain  November 30, 1835 in Florida, Missouri, The Un...   \n",
              "83         Steve Martin  August 14, 1945 in Waco, Texas, The United States   \n",
              "84      Albert Einstein                     March 14, 1879 in Ulm, Germany   \n",
              "85      Stephenie Meyer  December 24, 1973 in Connecticut, The United S...   \n",
              "\n",
              "                                          Description  \\\n",
              "0   André Paul Guillaume Gide was a French author ...   \n",
              "1   Marilyn Monroe (born Norma Jeane Mortenson; Ju...   \n",
              "2   Robert \"Bob\" Nesta Marley OM was a Jamaican si...   \n",
              "3   Eliezer Wiesel was a Romania-born American nov...   \n",
              "4   Friedrich Wilhelm Nietzsche (1844–1900) is a G...   \n",
              "..                                                ...   \n",
              "81  See also: Robert GalbraithAlthough she writes ...   \n",
              "82  Samuel Langhorne Clemens, better known by his ...   \n",
              "83  Stephen Glenn \"Steve\" Martin is an American ac...   \n",
              "84  In 1879, Albert Einstein was born in Ulm, Germ...   \n",
              "85  I was born in Connecticut in 1973, during a br...   \n",
              "\n",
              "                                                Quote  \\\n",
              "0   “It is better to be hated for what you are tha...   \n",
              "1   “This life is what you make it. No matter what...   \n",
              "2   “You may not be her first, her last, or her on...   \n",
              "3   “The opposite of love is not hate, it's indiff...   \n",
              "4   “It is not a lack of love, but a lack of frien...   \n",
              "..                                                ...   \n",
              "81  “The truth.\" Dumbledore sighed. \"It is a beaut...   \n",
              "82  “Never tell the truth to people who are not wo...   \n",
              "83  “A day without sunshine is like, you know, nig...   \n",
              "84  “Life is like riding a bicycle. To keep your b...   \n",
              "85                 “He's like a drug for you, Bella.”   \n",
              "\n",
              "                                                 Tags  \n",
              "0                                          life love   \n",
              "1   friends heartbreak inspirational life love sis...  \n",
              "2                                               love   \n",
              "3   activism apathy hate indifference inspirationa...  \n",
              "4   friendship lack-of-friendship lack-of-love lov...  \n",
              "..                                                ...  \n",
              "81                                             truth   \n",
              "82                                             truth   \n",
              "83                              humor obvious simile   \n",
              "84                                       life simile   \n",
              "85                               drug romance simile   \n",
              "\n",
              "[86 rows x 5 columns]"
            ],
            "text/html": [
              "\n",
              "  <div id=\"df-32127307-5d40-46e6-a266-c40a82cee7dd\" class=\"colab-df-container\">\n",
              "    <div>\n",
              "<style scoped>\n",
              "    .dataframe tbody tr th:only-of-type {\n",
              "        vertical-align: middle;\n",
              "    }\n",
              "\n",
              "    .dataframe tbody tr th {\n",
              "        vertical-align: top;\n",
              "    }\n",
              "\n",
              "    .dataframe thead th {\n",
              "        text-align: right;\n",
              "    }\n",
              "</style>\n",
              "<table border=\"1\" class=\"dataframe\">\n",
              "  <thead>\n",
              "    <tr style=\"text-align: right;\">\n",
              "      <th></th>\n",
              "      <th>Name</th>\n",
              "      <th>Born Info</th>\n",
              "      <th>Description</th>\n",
              "      <th>Quote</th>\n",
              "      <th>Tags</th>\n",
              "    </tr>\n",
              "  </thead>\n",
              "  <tbody>\n",
              "    <tr>\n",
              "      <th>0</th>\n",
              "      <td>André Gide</td>\n",
              "      <td>November 22, 1869 in Paris, France</td>\n",
              "      <td>André Paul Guillaume Gide was a French author ...</td>\n",
              "      <td>“It is better to be hated for what you are tha...</td>\n",
              "      <td>life love</td>\n",
              "    </tr>\n",
              "    <tr>\n",
              "      <th>1</th>\n",
              "      <td>Marilyn Monroe</td>\n",
              "      <td>June 01, 1926 in The United States</td>\n",
              "      <td>Marilyn Monroe (born Norma Jeane Mortenson; Ju...</td>\n",
              "      <td>“This life is what you make it. No matter what...</td>\n",
              "      <td>friends heartbreak inspirational life love sis...</td>\n",
              "    </tr>\n",
              "    <tr>\n",
              "      <th>2</th>\n",
              "      <td>Bob Marley</td>\n",
              "      <td>February 06, 1945 in Nine Mile, Saint Ann, Jam...</td>\n",
              "      <td>Robert \"Bob\" Nesta Marley OM was a Jamaican si...</td>\n",
              "      <td>“You may not be her first, her last, or her on...</td>\n",
              "      <td>love</td>\n",
              "    </tr>\n",
              "    <tr>\n",
              "      <th>3</th>\n",
              "      <td>Elie Wiesel</td>\n",
              "      <td>September 30, 1928 in Sighet, Romania</td>\n",
              "      <td>Eliezer Wiesel was a Romania-born American nov...</td>\n",
              "      <td>“The opposite of love is not hate, it's indiff...</td>\n",
              "      <td>activism apathy hate indifference inspirationa...</td>\n",
              "    </tr>\n",
              "    <tr>\n",
              "      <th>4</th>\n",
              "      <td>Friedrich Nietzsche</td>\n",
              "      <td>October 15, 1844 in Röcken bei Lützen, Prussia...</td>\n",
              "      <td>Friedrich Wilhelm Nietzsche (1844–1900) is a G...</td>\n",
              "      <td>“It is not a lack of love, but a lack of frien...</td>\n",
              "      <td>friendship lack-of-friendship lack-of-love lov...</td>\n",
              "    </tr>\n",
              "    <tr>\n",
              "      <th>...</th>\n",
              "      <td>...</td>\n",
              "      <td>...</td>\n",
              "      <td>...</td>\n",
              "      <td>...</td>\n",
              "      <td>...</td>\n",
              "    </tr>\n",
              "    <tr>\n",
              "      <th>81</th>\n",
              "      <td>J.K. Rowling</td>\n",
              "      <td>July 31, 1965 in Yate, South Gloucestershire, ...</td>\n",
              "      <td>See also: Robert GalbraithAlthough she writes ...</td>\n",
              "      <td>“The truth.\" Dumbledore sighed. \"It is a beaut...</td>\n",
              "      <td>truth</td>\n",
              "    </tr>\n",
              "    <tr>\n",
              "      <th>82</th>\n",
              "      <td>Mark Twain</td>\n",
              "      <td>November 30, 1835 in Florida, Missouri, The Un...</td>\n",
              "      <td>Samuel Langhorne Clemens, better known by his ...</td>\n",
              "      <td>“Never tell the truth to people who are not wo...</td>\n",
              "      <td>truth</td>\n",
              "    </tr>\n",
              "    <tr>\n",
              "      <th>83</th>\n",
              "      <td>Steve Martin</td>\n",
              "      <td>August 14, 1945 in Waco, Texas, The United States</td>\n",
              "      <td>Stephen Glenn \"Steve\" Martin is an American ac...</td>\n",
              "      <td>“A day without sunshine is like, you know, nig...</td>\n",
              "      <td>humor obvious simile</td>\n",
              "    </tr>\n",
              "    <tr>\n",
              "      <th>84</th>\n",
              "      <td>Albert Einstein</td>\n",
              "      <td>March 14, 1879 in Ulm, Germany</td>\n",
              "      <td>In 1879, Albert Einstein was born in Ulm, Germ...</td>\n",
              "      <td>“Life is like riding a bicycle. To keep your b...</td>\n",
              "      <td>life simile</td>\n",
              "    </tr>\n",
              "    <tr>\n",
              "      <th>85</th>\n",
              "      <td>Stephenie Meyer</td>\n",
              "      <td>December 24, 1973 in Connecticut, The United S...</td>\n",
              "      <td>I was born in Connecticut in 1973, during a br...</td>\n",
              "      <td>“He's like a drug for you, Bella.”</td>\n",
              "      <td>drug romance simile</td>\n",
              "    </tr>\n",
              "  </tbody>\n",
              "</table>\n",
              "<p>86 rows × 5 columns</p>\n",
              "</div>\n",
              "    <div class=\"colab-df-buttons\">\n",
              "\n",
              "  <div class=\"colab-df-container\">\n",
              "    <button class=\"colab-df-convert\" onclick=\"convertToInteractive('df-32127307-5d40-46e6-a266-c40a82cee7dd')\"\n",
              "            title=\"Convert this dataframe to an interactive table.\"\n",
              "            style=\"display:none;\">\n",
              "\n",
              "  <svg xmlns=\"http://www.w3.org/2000/svg\" height=\"24px\" viewBox=\"0 -960 960 960\">\n",
              "    <path d=\"M120-120v-720h720v720H120Zm60-500h600v-160H180v160Zm220 220h160v-160H400v160Zm0 220h160v-160H400v160ZM180-400h160v-160H180v160Zm440 0h160v-160H620v160ZM180-180h160v-160H180v160Zm440 0h160v-160H620v160Z\"/>\n",
              "  </svg>\n",
              "    </button>\n",
              "\n",
              "  <style>\n",
              "    .colab-df-container {\n",
              "      display:flex;\n",
              "      gap: 12px;\n",
              "    }\n",
              "\n",
              "    .colab-df-convert {\n",
              "      background-color: #E8F0FE;\n",
              "      border: none;\n",
              "      border-radius: 50%;\n",
              "      cursor: pointer;\n",
              "      display: none;\n",
              "      fill: #1967D2;\n",
              "      height: 32px;\n",
              "      padding: 0 0 0 0;\n",
              "      width: 32px;\n",
              "    }\n",
              "\n",
              "    .colab-df-convert:hover {\n",
              "      background-color: #E2EBFA;\n",
              "      box-shadow: 0px 1px 2px rgba(60, 64, 67, 0.3), 0px 1px 3px 1px rgba(60, 64, 67, 0.15);\n",
              "      fill: #174EA6;\n",
              "    }\n",
              "\n",
              "    .colab-df-buttons div {\n",
              "      margin-bottom: 4px;\n",
              "    }\n",
              "\n",
              "    [theme=dark] .colab-df-convert {\n",
              "      background-color: #3B4455;\n",
              "      fill: #D2E3FC;\n",
              "    }\n",
              "\n",
              "    [theme=dark] .colab-df-convert:hover {\n",
              "      background-color: #434B5C;\n",
              "      box-shadow: 0px 1px 3px 1px rgba(0, 0, 0, 0.15);\n",
              "      filter: drop-shadow(0px 1px 2px rgba(0, 0, 0, 0.3));\n",
              "      fill: #FFFFFF;\n",
              "    }\n",
              "  </style>\n",
              "\n",
              "    <script>\n",
              "      const buttonEl =\n",
              "        document.querySelector('#df-32127307-5d40-46e6-a266-c40a82cee7dd button.colab-df-convert');\n",
              "      buttonEl.style.display =\n",
              "        google.colab.kernel.accessAllowed ? 'block' : 'none';\n",
              "\n",
              "      async function convertToInteractive(key) {\n",
              "        const element = document.querySelector('#df-32127307-5d40-46e6-a266-c40a82cee7dd');\n",
              "        const dataTable =\n",
              "          await google.colab.kernel.invokeFunction('convertToInteractive',\n",
              "                                                    [key], {});\n",
              "        if (!dataTable) return;\n",
              "\n",
              "        const docLinkHtml = 'Like what you see? Visit the ' +\n",
              "          '<a target=\"_blank\" href=https://colab.research.google.com/notebooks/data_table.ipynb>data table notebook</a>'\n",
              "          + ' to learn more about interactive tables.';\n",
              "        element.innerHTML = '';\n",
              "        dataTable['output_type'] = 'display_data';\n",
              "        await google.colab.output.renderOutput(dataTable, element);\n",
              "        const docLink = document.createElement('div');\n",
              "        docLink.innerHTML = docLinkHtml;\n",
              "        element.appendChild(docLink);\n",
              "      }\n",
              "    </script>\n",
              "  </div>\n",
              "\n",
              "\n",
              "<div id=\"df-8c7302e4-1f02-4809-b5ac-fab258ed0e26\">\n",
              "  <button class=\"colab-df-quickchart\" onclick=\"quickchart('df-8c7302e4-1f02-4809-b5ac-fab258ed0e26')\"\n",
              "            title=\"Suggest charts\"\n",
              "            style=\"display:none;\">\n",
              "\n",
              "<svg xmlns=\"http://www.w3.org/2000/svg\" height=\"24px\"viewBox=\"0 0 24 24\"\n",
              "     width=\"24px\">\n",
              "    <g>\n",
              "        <path d=\"M19 3H5c-1.1 0-2 .9-2 2v14c0 1.1.9 2 2 2h14c1.1 0 2-.9 2-2V5c0-1.1-.9-2-2-2zM9 17H7v-7h2v7zm4 0h-2V7h2v10zm4 0h-2v-4h2v4z\"/>\n",
              "    </g>\n",
              "</svg>\n",
              "  </button>\n",
              "\n",
              "<style>\n",
              "  .colab-df-quickchart {\n",
              "      --bg-color: #E8F0FE;\n",
              "      --fill-color: #1967D2;\n",
              "      --hover-bg-color: #E2EBFA;\n",
              "      --hover-fill-color: #174EA6;\n",
              "      --disabled-fill-color: #AAA;\n",
              "      --disabled-bg-color: #DDD;\n",
              "  }\n",
              "\n",
              "  [theme=dark] .colab-df-quickchart {\n",
              "      --bg-color: #3B4455;\n",
              "      --fill-color: #D2E3FC;\n",
              "      --hover-bg-color: #434B5C;\n",
              "      --hover-fill-color: #FFFFFF;\n",
              "      --disabled-bg-color: #3B4455;\n",
              "      --disabled-fill-color: #666;\n",
              "  }\n",
              "\n",
              "  .colab-df-quickchart {\n",
              "    background-color: var(--bg-color);\n",
              "    border: none;\n",
              "    border-radius: 50%;\n",
              "    cursor: pointer;\n",
              "    display: none;\n",
              "    fill: var(--fill-color);\n",
              "    height: 32px;\n",
              "    padding: 0;\n",
              "    width: 32px;\n",
              "  }\n",
              "\n",
              "  .colab-df-quickchart:hover {\n",
              "    background-color: var(--hover-bg-color);\n",
              "    box-shadow: 0 1px 2px rgba(60, 64, 67, 0.3), 0 1px 3px 1px rgba(60, 64, 67, 0.15);\n",
              "    fill: var(--button-hover-fill-color);\n",
              "  }\n",
              "\n",
              "  .colab-df-quickchart-complete:disabled,\n",
              "  .colab-df-quickchart-complete:disabled:hover {\n",
              "    background-color: var(--disabled-bg-color);\n",
              "    fill: var(--disabled-fill-color);\n",
              "    box-shadow: none;\n",
              "  }\n",
              "\n",
              "  .colab-df-spinner {\n",
              "    border: 2px solid var(--fill-color);\n",
              "    border-color: transparent;\n",
              "    border-bottom-color: var(--fill-color);\n",
              "    animation:\n",
              "      spin 1s steps(1) infinite;\n",
              "  }\n",
              "\n",
              "  @keyframes spin {\n",
              "    0% {\n",
              "      border-color: transparent;\n",
              "      border-bottom-color: var(--fill-color);\n",
              "      border-left-color: var(--fill-color);\n",
              "    }\n",
              "    20% {\n",
              "      border-color: transparent;\n",
              "      border-left-color: var(--fill-color);\n",
              "      border-top-color: var(--fill-color);\n",
              "    }\n",
              "    30% {\n",
              "      border-color: transparent;\n",
              "      border-left-color: var(--fill-color);\n",
              "      border-top-color: var(--fill-color);\n",
              "      border-right-color: var(--fill-color);\n",
              "    }\n",
              "    40% {\n",
              "      border-color: transparent;\n",
              "      border-right-color: var(--fill-color);\n",
              "      border-top-color: var(--fill-color);\n",
              "    }\n",
              "    60% {\n",
              "      border-color: transparent;\n",
              "      border-right-color: var(--fill-color);\n",
              "    }\n",
              "    80% {\n",
              "      border-color: transparent;\n",
              "      border-right-color: var(--fill-color);\n",
              "      border-bottom-color: var(--fill-color);\n",
              "    }\n",
              "    90% {\n",
              "      border-color: transparent;\n",
              "      border-bottom-color: var(--fill-color);\n",
              "    }\n",
              "  }\n",
              "</style>\n",
              "\n",
              "  <script>\n",
              "    async function quickchart(key) {\n",
              "      const quickchartButtonEl =\n",
              "        document.querySelector('#' + key + ' button');\n",
              "      quickchartButtonEl.disabled = true;  // To prevent multiple clicks.\n",
              "      quickchartButtonEl.classList.add('colab-df-spinner');\n",
              "      try {\n",
              "        const charts = await google.colab.kernel.invokeFunction(\n",
              "            'suggestCharts', [key], {});\n",
              "      } catch (error) {\n",
              "        console.error('Error during call to suggestCharts:', error);\n",
              "      }\n",
              "      quickchartButtonEl.classList.remove('colab-df-spinner');\n",
              "      quickchartButtonEl.classList.add('colab-df-quickchart-complete');\n",
              "    }\n",
              "    (() => {\n",
              "      let quickchartButtonEl =\n",
              "        document.querySelector('#df-8c7302e4-1f02-4809-b5ac-fab258ed0e26 button');\n",
              "      quickchartButtonEl.style.display =\n",
              "        google.colab.kernel.accessAllowed ? 'block' : 'none';\n",
              "    })();\n",
              "  </script>\n",
              "</div>\n",
              "\n",
              "  <div id=\"id_2b9be1a6-5edd-48f3-9e7a-8305edfddcee\">\n",
              "    <style>\n",
              "      .colab-df-generate {\n",
              "        background-color: #E8F0FE;\n",
              "        border: none;\n",
              "        border-radius: 50%;\n",
              "        cursor: pointer;\n",
              "        display: none;\n",
              "        fill: #1967D2;\n",
              "        height: 32px;\n",
              "        padding: 0 0 0 0;\n",
              "        width: 32px;\n",
              "      }\n",
              "\n",
              "      .colab-df-generate:hover {\n",
              "        background-color: #E2EBFA;\n",
              "        box-shadow: 0px 1px 2px rgba(60, 64, 67, 0.3), 0px 1px 3px 1px rgba(60, 64, 67, 0.15);\n",
              "        fill: #174EA6;\n",
              "      }\n",
              "\n",
              "      [theme=dark] .colab-df-generate {\n",
              "        background-color: #3B4455;\n",
              "        fill: #D2E3FC;\n",
              "      }\n",
              "\n",
              "      [theme=dark] .colab-df-generate:hover {\n",
              "        background-color: #434B5C;\n",
              "        box-shadow: 0px 1px 3px 1px rgba(0, 0, 0, 0.15);\n",
              "        filter: drop-shadow(0px 1px 2px rgba(0, 0, 0, 0.3));\n",
              "        fill: #FFFFFF;\n",
              "      }\n",
              "    </style>\n",
              "    <button class=\"colab-df-generate\" onclick=\"generateWithVariable('df')\"\n",
              "            title=\"Generate code using this dataframe.\"\n",
              "            style=\"display:none;\">\n",
              "\n",
              "  <svg xmlns=\"http://www.w3.org/2000/svg\" height=\"24px\"viewBox=\"0 0 24 24\"\n",
              "       width=\"24px\">\n",
              "    <path d=\"M7,19H8.4L18.45,9,17,7.55,7,17.6ZM5,21V16.75L18.45,3.32a2,2,0,0,1,2.83,0l1.4,1.43a1.91,1.91,0,0,1,.58,1.4,1.91,1.91,0,0,1-.58,1.4L9.25,21ZM18.45,9,17,7.55Zm-12,3A5.31,5.31,0,0,0,4.9,8.1,5.31,5.31,0,0,0,1,6.5,5.31,5.31,0,0,0,4.9,4.9,5.31,5.31,0,0,0,6.5,1,5.31,5.31,0,0,0,8.1,4.9,5.31,5.31,0,0,0,12,6.5,5.46,5.46,0,0,0,6.5,12Z\"/>\n",
              "  </svg>\n",
              "    </button>\n",
              "    <script>\n",
              "      (() => {\n",
              "      const buttonEl =\n",
              "        document.querySelector('#id_2b9be1a6-5edd-48f3-9e7a-8305edfddcee button.colab-df-generate');\n",
              "      buttonEl.style.display =\n",
              "        google.colab.kernel.accessAllowed ? 'block' : 'none';\n",
              "\n",
              "      buttonEl.onclick = () => {\n",
              "        google.colab.notebook.generateWithVariable('df');\n",
              "      }\n",
              "      })();\n",
              "    </script>\n",
              "  </div>\n",
              "\n",
              "    </div>\n",
              "  </div>\n"
            ],
            "application/vnd.google.colaboratory.intrinsic+json": {
              "type": "dataframe",
              "variable_name": "df",
              "summary": "{\n  \"name\": \"df\",\n  \"rows\": 86,\n  \"fields\": [\n    {\n      \"column\": \"Name\",\n      \"properties\": {\n        \"dtype\": \"string\",\n        \"num_unique_values\": 43,\n        \"samples\": [\n          \"Ernest Hemingway\",\n          \"Jimi Hendrix\",\n          \"Khaled Hosseini\"\n        ],\n        \"semantic_type\": \"\",\n        \"description\": \"\"\n      }\n    },\n    {\n      \"column\": \"Born Info\",\n      \"properties\": {\n        \"dtype\": \"string\",\n        \"num_unique_values\": 43,\n        \"samples\": [\n          \"July 21, 1899 in Oak Park, Illinois, The United States\",\n          \"November 27, 1942 in Seattle, Washington, The United States\",\n          \"March 04, 1965 in Kabul, Afghanistan\"\n        ],\n        \"semantic_type\": \"\",\n        \"description\": \"\"\n      }\n    },\n    {\n      \"column\": \"Description\",\n      \"properties\": {\n        \"dtype\": \"string\",\n        \"num_unique_values\": 43,\n        \"samples\": [\n          \"Ernest Miller Hemingway was an American author and journalist. His economical and understated style had a strong influence on 20th-century fiction, while his life of adventure and his public image influenced later generations. Hemingway produced most of his work between the mid-1920s and the mid-1950s, and won the Nobel Prize in Literature in 1954. He published seven novels, six short story collections and two non-fiction works. Three novels, four collections of short stories and three non-fiction works were published posthumously. Many of these are considered classics of American literature.Hemingway was raised in Oak Park, Illinois. After high school he reported for a few months for The Kansas City Star, before leaving for the Italian front to enlist with the World War I ambulance drivers. In 1918, he was seriously wounded and returned home. His wartime experiences formed the basis for his novel A Farewell to Arms. In 1922, he married Hadley Richardson, the first of his four wives. The couple moved to Paris, where he worked as a foreign correspondent, and fell under the influence of the modernist writers and artists of the 1920s \\\"Lost Generation\\\" expatriate community. The Sun Also Rises, Hemingway's first novel, was published in 1926.After his 1927 divorce from Hadley Richardson, Hemingway married Pauline Pfeiffer. They divorced after he returned from Spanish Civil War where he had acted as a journalist, and after which he wrote For Whom the Bell Tolls. Martha Gellhorn became his third wife in 1940. They separated when he met Mary Welsh in London during World War II; during which he was present at the Normandy Landings and liberation of Paris.Shortly after the publication of The Old Man and the Sea in 1952, Hemingway went on safari to Africa, where he was almost killed in two plane crashes that left him in pain or ill-health for much of the rest of his life. Hemingway had permanent residences in Key West, Florida, and Cuba during the 1930s and 1940s, but in 1959 he moved from Cuba to Ketchum, Idaho, where he committed suicide in the summer of 1961.\",\n          \"Jimi Hendrix was an American guitarist, singer and songwriter. Hendrix is considered one of the greatest and most influential guitarists in rock music history. After initial success in Europe, he achieved fame in the USA following his 1967 performance at the Monterey Pop Festival. Later, Hendrix headlined the iconic 1969 Woodstock Festival.Hendrix helped develop the technique of guitar feedback with overdriven amplifiers. He was influenced by blues artists such as B.B. King, Muddy Waters, Albert King, and Elmore James, rhythm and blues and soul guitarists Curtis Mayfield, Steve Cropper, as well as by some modern jazz.Carlos Santana has suggested that Hendrix's music may have been influenced by his Native American heritage. As a record producer, Hendrix also broke new ground in using the recording studio as an extension of his musical ideas; he was one of the first to experiment with stereophonic and phasing effects during recording.Hendrix won many of the most prestigious rock music awards in his lifetime and has been posthumously awarded many more, including being inducted into the USA's Rock and Roll Hall of Fame in 1992 and the UK Music Hall of Fame in 2005. An English Heritage \\\"Blue plaque\\\" was erected in his name on his former residence at Brook Street, London in September 1997 and his star on the Hollywood Walk of Fame (at 6627 Hollywood Blvd.) was dedicated in 1994. In 2006, his debut USA album, Are You Experienced, was inducted into the United States National Recording Registry and Rolling Stone named Hendrix number 1 on their list of the 100 Greatest Guitarists of All Time in 2003.\",\n          \"Hosseini was born in Kabul, Afghanistan, in 1965. In 1970 Hosseini and his family moved to Iran where his father worked for the Embassy of Afghanistan in Tehran. In 1973 Hosseini's family returned to Kabul, and Hosseini's youngest brother was born in July of that year.In 1976, when Hosseini was 11 years old, Hosseini's father obtained a job in Paris, France, and moved the family there. They were unable to return to Afghanistan because of the Saur Revolution in which the PDPA communist party seized power through a bloody coup in April 1978. Instead, a year after the Soviet invasion of Afghanistan, in 1980 they sought political asylum in the United States and made their residence in San Jose, California.Hosseini graduated from Independence High School in San Jose in 1984 and enrolled at Santa Clara University, where he earned a bachelor's degree in biology in 1988. The following year, he entered the University of California, San Diego, School of Medicine, where he earned his M.D. in 1993. He completed his residency in internal medicine at Cedars-Sinai Medical Center in Los Angeles in 1996. He practiced medicine for over ten years, until a year and a half after the release of The Kite Runner.Hosseini is currently a Goodwill Envoy for the United Nations High Commissioner for Refugees (UNHCR). He has been working to provide humanitarian assistance in Afghanistan through the Khaled Hosseini Foundation. The concept for the foundation was inspired by the trip to Afghanistan that Hosseini made in 2007 with UNHCR.He lives in Northern California with his wife, Roya, and their two children (Harris and Farah).\"\n        ],\n        \"semantic_type\": \"\",\n        \"description\": \"\"\n      }\n    },\n    {\n      \"column\": \"Quote\",\n      \"properties\": {\n        \"dtype\": \"string\",\n        \"num_unique_values\": 62,\n        \"samples\": [\n          \"\\u201cI declare after all there is no enjoyment like reading! How much sooner one tires of any thing than of a book! -- When I have a house of my own, I shall be miserable if I have not an excellent library.\\u201d\",\n          \"\\u201cA reader lives a thousand lives before he dies, said Jojen. The man who never reads lives only one.\\u201d\",\n          \"\\u201cIt is better to be hated for what you are than to be loved for what you are not.\\u201d\"\n        ],\n        \"semantic_type\": \"\",\n        \"description\": \"\"\n      }\n    },\n    {\n      \"column\": \"Tags\",\n      \"properties\": {\n        \"dtype\": \"string\",\n        \"num_unique_values\": 52,\n        \"samples\": [\n          \"life navigation \",\n          \"books library reading \",\n          \"read readers reading reading-books \"\n        ],\n        \"semantic_type\": \"\",\n        \"description\": \"\"\n      }\n    }\n  ]\n}"
            }
          },
          "metadata": {},
          "execution_count": 42
        }
      ]
    },
    {
      "cell_type": "markdown",
      "source": [
        "# **When I opened pages via buttons on the right side, the number of total quotes was 86. But quotes on the mane page are 100. Here I will scrape them too.**"
      ],
      "metadata": {
        "id": "9qLvTUCp8OjJ"
      }
    },
    {
      "cell_type": "code",
      "source": [
        "Quotes = []\n",
        "AuthorNames = []\n",
        "BornInfos = []\n",
        "Descriptions = []\n",
        "Tags = []\n",
        "baseL = \"https://quotes.toscrape.com/page/\"\n",
        "for i in range(1, 11):\n",
        "  cLink = baseL + str(i) + \"/\"\n",
        "  response = requests.get(cLink)\n",
        "  currentSoup = BeautifulSoup(response.content, parser = \"html.parser\")\n",
        "  ScrapePages(currentSoup)\n",
        "\n",
        "print(len(AuthorNames))\n",
        "print(len(BornInfos))\n",
        "print(len(Quotes))\n",
        "print(len(Descriptions))\n",
        "print(len(Tags))\n"
      ],
      "metadata": {
        "colab": {
          "base_uri": "https://localhost:8080/"
        },
        "id": "ZrVKjF8I7JmY",
        "outputId": "df93948a-5649-4887-ef66-97afdae1e9b0"
      },
      "execution_count": 43,
      "outputs": [
        {
          "output_type": "stream",
          "name": "stdout",
          "text": [
            "100\n",
            "100\n",
            "100\n",
            "100\n",
            "100\n"
          ]
        }
      ]
    },
    {
      "cell_type": "code",
      "source": [
        "df2 = pandas.DataFrame(data={\"Name\": AuthorNames, \"Born Info\": BornInfos, \"Description\": Descriptions, \"Quote\": Quotes, \"Tags\": Tags})\n",
        "df2.to_csv(\"./secondfile.csv\", sep=',',index=False)"
      ],
      "metadata": {
        "id": "7llzzJf79WRV"
      },
      "execution_count": 44,
      "outputs": []
    },
    {
      "cell_type": "code",
      "source": [
        "df2"
      ],
      "metadata": {
        "colab": {
          "base_uri": "https://localhost:8080/",
          "height": 423
        },
        "id": "YME4xpjC_Dwo",
        "outputId": "7082d72f-17f4-4679-eeba-ed5ca053748b"
      },
      "execution_count": 45,
      "outputs": [
        {
          "output_type": "execute_result",
          "data": {
            "text/plain": [
              "                  Name                                          Born Info  \\\n",
              "0      Albert Einstein                     March 14, 1879 in Ulm, Germany   \n",
              "1         J.K. Rowling  July 31, 1965 in Yate, South Gloucestershire, ...   \n",
              "2      Albert Einstein                     March 14, 1879 in Ulm, Germany   \n",
              "3          Jane Austen  December 16, 1775 in Steventon Rectory, Hampsh...   \n",
              "4       Marilyn Monroe                 June 01, 1926 in The United States   \n",
              "..                 ...                                                ...   \n",
              "95          Harper Lee  April 28, 1926 in Monroeville, Alabama, The Un...   \n",
              "96   Madeleine L'Engle  November 29, 1918 in New York City, New York, ...   \n",
              "97          Mark Twain  November 30, 1835 in Florida, Missouri, The Un...   \n",
              "98           Dr. Seuss  March 02, 1904 in Springfield, MA, The United ...   \n",
              "99  George R.R. Martin  September 20, 1948 in Bayonne, New Jersey, The...   \n",
              "\n",
              "                                          Description  \\\n",
              "0   In 1879, Albert Einstein was born in Ulm, Germ...   \n",
              "1   See also: Robert GalbraithAlthough she writes ...   \n",
              "2   In 1879, Albert Einstein was born in Ulm, Germ...   \n",
              "3   Jane Austen was an English novelist whose work...   \n",
              "4   Marilyn Monroe (born Norma Jeane Mortenson; Ju...   \n",
              "..                                                ...   \n",
              "95  Harper Lee, known as Nelle, was born in the Al...   \n",
              "96  Madeleine L'Engle was an American writer best ...   \n",
              "97  Samuel Langhorne Clemens, better known by his ...   \n",
              "98  Theodor Seuss Geisel was born 2 March 1904 in ...   \n",
              "99  George R. R. Martin was born September 20, 194...   \n",
              "\n",
              "                                                Quote  \\\n",
              "0   “The world as we have created it is a process ...   \n",
              "1   “It is our choices, Harry, that show what we t...   \n",
              "2   “There are only two ways to live your life. On...   \n",
              "3   “The person, be it gentleman or lady, who has ...   \n",
              "4   “Imperfection is beauty, madness is genius and...   \n",
              "..                                                ...   \n",
              "95  “You never really understand a person until yo...   \n",
              "96  “You have to write the book that wants to be w...   \n",
              "97  “Never tell the truth to people who are not wo...   \n",
              "98        “A person's a person, no matter how small.”   \n",
              "99  “... a mind needs books as a sword needs a whe...   \n",
              "\n",
              "                                                 Tags  \n",
              "0                change deep-thoughts thinking world   \n",
              "1                                  abilities choices   \n",
              "2           inspirational life live miracle miracles   \n",
              "3                      aliteracy books classic humor   \n",
              "4                          be-yourself inspirational   \n",
              "..                                                ...  \n",
              "95                               better-life-empathy   \n",
              "96  books children difficult grown-ups write write...  \n",
              "97                                             truth   \n",
              "98                                     inspirational   \n",
              "99                                        books mind   \n",
              "\n",
              "[100 rows x 5 columns]"
            ],
            "text/html": [
              "\n",
              "  <div id=\"df-db7c242f-1b83-46b6-b9f0-e893f0f7cc81\" class=\"colab-df-container\">\n",
              "    <div>\n",
              "<style scoped>\n",
              "    .dataframe tbody tr th:only-of-type {\n",
              "        vertical-align: middle;\n",
              "    }\n",
              "\n",
              "    .dataframe tbody tr th {\n",
              "        vertical-align: top;\n",
              "    }\n",
              "\n",
              "    .dataframe thead th {\n",
              "        text-align: right;\n",
              "    }\n",
              "</style>\n",
              "<table border=\"1\" class=\"dataframe\">\n",
              "  <thead>\n",
              "    <tr style=\"text-align: right;\">\n",
              "      <th></th>\n",
              "      <th>Name</th>\n",
              "      <th>Born Info</th>\n",
              "      <th>Description</th>\n",
              "      <th>Quote</th>\n",
              "      <th>Tags</th>\n",
              "    </tr>\n",
              "  </thead>\n",
              "  <tbody>\n",
              "    <tr>\n",
              "      <th>0</th>\n",
              "      <td>Albert Einstein</td>\n",
              "      <td>March 14, 1879 in Ulm, Germany</td>\n",
              "      <td>In 1879, Albert Einstein was born in Ulm, Germ...</td>\n",
              "      <td>“The world as we have created it is a process ...</td>\n",
              "      <td>change deep-thoughts thinking world</td>\n",
              "    </tr>\n",
              "    <tr>\n",
              "      <th>1</th>\n",
              "      <td>J.K. Rowling</td>\n",
              "      <td>July 31, 1965 in Yate, South Gloucestershire, ...</td>\n",
              "      <td>See also: Robert GalbraithAlthough she writes ...</td>\n",
              "      <td>“It is our choices, Harry, that show what we t...</td>\n",
              "      <td>abilities choices</td>\n",
              "    </tr>\n",
              "    <tr>\n",
              "      <th>2</th>\n",
              "      <td>Albert Einstein</td>\n",
              "      <td>March 14, 1879 in Ulm, Germany</td>\n",
              "      <td>In 1879, Albert Einstein was born in Ulm, Germ...</td>\n",
              "      <td>“There are only two ways to live your life. On...</td>\n",
              "      <td>inspirational life live miracle miracles</td>\n",
              "    </tr>\n",
              "    <tr>\n",
              "      <th>3</th>\n",
              "      <td>Jane Austen</td>\n",
              "      <td>December 16, 1775 in Steventon Rectory, Hampsh...</td>\n",
              "      <td>Jane Austen was an English novelist whose work...</td>\n",
              "      <td>“The person, be it gentleman or lady, who has ...</td>\n",
              "      <td>aliteracy books classic humor</td>\n",
              "    </tr>\n",
              "    <tr>\n",
              "      <th>4</th>\n",
              "      <td>Marilyn Monroe</td>\n",
              "      <td>June 01, 1926 in The United States</td>\n",
              "      <td>Marilyn Monroe (born Norma Jeane Mortenson; Ju...</td>\n",
              "      <td>“Imperfection is beauty, madness is genius and...</td>\n",
              "      <td>be-yourself inspirational</td>\n",
              "    </tr>\n",
              "    <tr>\n",
              "      <th>...</th>\n",
              "      <td>...</td>\n",
              "      <td>...</td>\n",
              "      <td>...</td>\n",
              "      <td>...</td>\n",
              "      <td>...</td>\n",
              "    </tr>\n",
              "    <tr>\n",
              "      <th>95</th>\n",
              "      <td>Harper Lee</td>\n",
              "      <td>April 28, 1926 in Monroeville, Alabama, The Un...</td>\n",
              "      <td>Harper Lee, known as Nelle, was born in the Al...</td>\n",
              "      <td>“You never really understand a person until yo...</td>\n",
              "      <td>better-life-empathy</td>\n",
              "    </tr>\n",
              "    <tr>\n",
              "      <th>96</th>\n",
              "      <td>Madeleine L'Engle</td>\n",
              "      <td>November 29, 1918 in New York City, New York, ...</td>\n",
              "      <td>Madeleine L'Engle was an American writer best ...</td>\n",
              "      <td>“You have to write the book that wants to be w...</td>\n",
              "      <td>books children difficult grown-ups write write...</td>\n",
              "    </tr>\n",
              "    <tr>\n",
              "      <th>97</th>\n",
              "      <td>Mark Twain</td>\n",
              "      <td>November 30, 1835 in Florida, Missouri, The Un...</td>\n",
              "      <td>Samuel Langhorne Clemens, better known by his ...</td>\n",
              "      <td>“Never tell the truth to people who are not wo...</td>\n",
              "      <td>truth</td>\n",
              "    </tr>\n",
              "    <tr>\n",
              "      <th>98</th>\n",
              "      <td>Dr. Seuss</td>\n",
              "      <td>March 02, 1904 in Springfield, MA, The United ...</td>\n",
              "      <td>Theodor Seuss Geisel was born 2 March 1904 in ...</td>\n",
              "      <td>“A person's a person, no matter how small.”</td>\n",
              "      <td>inspirational</td>\n",
              "    </tr>\n",
              "    <tr>\n",
              "      <th>99</th>\n",
              "      <td>George R.R. Martin</td>\n",
              "      <td>September 20, 1948 in Bayonne, New Jersey, The...</td>\n",
              "      <td>George R. R. Martin was born September 20, 194...</td>\n",
              "      <td>“... a mind needs books as a sword needs a whe...</td>\n",
              "      <td>books mind</td>\n",
              "    </tr>\n",
              "  </tbody>\n",
              "</table>\n",
              "<p>100 rows × 5 columns</p>\n",
              "</div>\n",
              "    <div class=\"colab-df-buttons\">\n",
              "\n",
              "  <div class=\"colab-df-container\">\n",
              "    <button class=\"colab-df-convert\" onclick=\"convertToInteractive('df-db7c242f-1b83-46b6-b9f0-e893f0f7cc81')\"\n",
              "            title=\"Convert this dataframe to an interactive table.\"\n",
              "            style=\"display:none;\">\n",
              "\n",
              "  <svg xmlns=\"http://www.w3.org/2000/svg\" height=\"24px\" viewBox=\"0 -960 960 960\">\n",
              "    <path d=\"M120-120v-720h720v720H120Zm60-500h600v-160H180v160Zm220 220h160v-160H400v160Zm0 220h160v-160H400v160ZM180-400h160v-160H180v160Zm440 0h160v-160H620v160ZM180-180h160v-160H180v160Zm440 0h160v-160H620v160Z\"/>\n",
              "  </svg>\n",
              "    </button>\n",
              "\n",
              "  <style>\n",
              "    .colab-df-container {\n",
              "      display:flex;\n",
              "      gap: 12px;\n",
              "    }\n",
              "\n",
              "    .colab-df-convert {\n",
              "      background-color: #E8F0FE;\n",
              "      border: none;\n",
              "      border-radius: 50%;\n",
              "      cursor: pointer;\n",
              "      display: none;\n",
              "      fill: #1967D2;\n",
              "      height: 32px;\n",
              "      padding: 0 0 0 0;\n",
              "      width: 32px;\n",
              "    }\n",
              "\n",
              "    .colab-df-convert:hover {\n",
              "      background-color: #E2EBFA;\n",
              "      box-shadow: 0px 1px 2px rgba(60, 64, 67, 0.3), 0px 1px 3px 1px rgba(60, 64, 67, 0.15);\n",
              "      fill: #174EA6;\n",
              "    }\n",
              "\n",
              "    .colab-df-buttons div {\n",
              "      margin-bottom: 4px;\n",
              "    }\n",
              "\n",
              "    [theme=dark] .colab-df-convert {\n",
              "      background-color: #3B4455;\n",
              "      fill: #D2E3FC;\n",
              "    }\n",
              "\n",
              "    [theme=dark] .colab-df-convert:hover {\n",
              "      background-color: #434B5C;\n",
              "      box-shadow: 0px 1px 3px 1px rgba(0, 0, 0, 0.15);\n",
              "      filter: drop-shadow(0px 1px 2px rgba(0, 0, 0, 0.3));\n",
              "      fill: #FFFFFF;\n",
              "    }\n",
              "  </style>\n",
              "\n",
              "    <script>\n",
              "      const buttonEl =\n",
              "        document.querySelector('#df-db7c242f-1b83-46b6-b9f0-e893f0f7cc81 button.colab-df-convert');\n",
              "      buttonEl.style.display =\n",
              "        google.colab.kernel.accessAllowed ? 'block' : 'none';\n",
              "\n",
              "      async function convertToInteractive(key) {\n",
              "        const element = document.querySelector('#df-db7c242f-1b83-46b6-b9f0-e893f0f7cc81');\n",
              "        const dataTable =\n",
              "          await google.colab.kernel.invokeFunction('convertToInteractive',\n",
              "                                                    [key], {});\n",
              "        if (!dataTable) return;\n",
              "\n",
              "        const docLinkHtml = 'Like what you see? Visit the ' +\n",
              "          '<a target=\"_blank\" href=https://colab.research.google.com/notebooks/data_table.ipynb>data table notebook</a>'\n",
              "          + ' to learn more about interactive tables.';\n",
              "        element.innerHTML = '';\n",
              "        dataTable['output_type'] = 'display_data';\n",
              "        await google.colab.output.renderOutput(dataTable, element);\n",
              "        const docLink = document.createElement('div');\n",
              "        docLink.innerHTML = docLinkHtml;\n",
              "        element.appendChild(docLink);\n",
              "      }\n",
              "    </script>\n",
              "  </div>\n",
              "\n",
              "\n",
              "<div id=\"df-04e737bd-d676-45d4-a102-f06027c4edf7\">\n",
              "  <button class=\"colab-df-quickchart\" onclick=\"quickchart('df-04e737bd-d676-45d4-a102-f06027c4edf7')\"\n",
              "            title=\"Suggest charts\"\n",
              "            style=\"display:none;\">\n",
              "\n",
              "<svg xmlns=\"http://www.w3.org/2000/svg\" height=\"24px\"viewBox=\"0 0 24 24\"\n",
              "     width=\"24px\">\n",
              "    <g>\n",
              "        <path d=\"M19 3H5c-1.1 0-2 .9-2 2v14c0 1.1.9 2 2 2h14c1.1 0 2-.9 2-2V5c0-1.1-.9-2-2-2zM9 17H7v-7h2v7zm4 0h-2V7h2v10zm4 0h-2v-4h2v4z\"/>\n",
              "    </g>\n",
              "</svg>\n",
              "  </button>\n",
              "\n",
              "<style>\n",
              "  .colab-df-quickchart {\n",
              "      --bg-color: #E8F0FE;\n",
              "      --fill-color: #1967D2;\n",
              "      --hover-bg-color: #E2EBFA;\n",
              "      --hover-fill-color: #174EA6;\n",
              "      --disabled-fill-color: #AAA;\n",
              "      --disabled-bg-color: #DDD;\n",
              "  }\n",
              "\n",
              "  [theme=dark] .colab-df-quickchart {\n",
              "      --bg-color: #3B4455;\n",
              "      --fill-color: #D2E3FC;\n",
              "      --hover-bg-color: #434B5C;\n",
              "      --hover-fill-color: #FFFFFF;\n",
              "      --disabled-bg-color: #3B4455;\n",
              "      --disabled-fill-color: #666;\n",
              "  }\n",
              "\n",
              "  .colab-df-quickchart {\n",
              "    background-color: var(--bg-color);\n",
              "    border: none;\n",
              "    border-radius: 50%;\n",
              "    cursor: pointer;\n",
              "    display: none;\n",
              "    fill: var(--fill-color);\n",
              "    height: 32px;\n",
              "    padding: 0;\n",
              "    width: 32px;\n",
              "  }\n",
              "\n",
              "  .colab-df-quickchart:hover {\n",
              "    background-color: var(--hover-bg-color);\n",
              "    box-shadow: 0 1px 2px rgba(60, 64, 67, 0.3), 0 1px 3px 1px rgba(60, 64, 67, 0.15);\n",
              "    fill: var(--button-hover-fill-color);\n",
              "  }\n",
              "\n",
              "  .colab-df-quickchart-complete:disabled,\n",
              "  .colab-df-quickchart-complete:disabled:hover {\n",
              "    background-color: var(--disabled-bg-color);\n",
              "    fill: var(--disabled-fill-color);\n",
              "    box-shadow: none;\n",
              "  }\n",
              "\n",
              "  .colab-df-spinner {\n",
              "    border: 2px solid var(--fill-color);\n",
              "    border-color: transparent;\n",
              "    border-bottom-color: var(--fill-color);\n",
              "    animation:\n",
              "      spin 1s steps(1) infinite;\n",
              "  }\n",
              "\n",
              "  @keyframes spin {\n",
              "    0% {\n",
              "      border-color: transparent;\n",
              "      border-bottom-color: var(--fill-color);\n",
              "      border-left-color: var(--fill-color);\n",
              "    }\n",
              "    20% {\n",
              "      border-color: transparent;\n",
              "      border-left-color: var(--fill-color);\n",
              "      border-top-color: var(--fill-color);\n",
              "    }\n",
              "    30% {\n",
              "      border-color: transparent;\n",
              "      border-left-color: var(--fill-color);\n",
              "      border-top-color: var(--fill-color);\n",
              "      border-right-color: var(--fill-color);\n",
              "    }\n",
              "    40% {\n",
              "      border-color: transparent;\n",
              "      border-right-color: var(--fill-color);\n",
              "      border-top-color: var(--fill-color);\n",
              "    }\n",
              "    60% {\n",
              "      border-color: transparent;\n",
              "      border-right-color: var(--fill-color);\n",
              "    }\n",
              "    80% {\n",
              "      border-color: transparent;\n",
              "      border-right-color: var(--fill-color);\n",
              "      border-bottom-color: var(--fill-color);\n",
              "    }\n",
              "    90% {\n",
              "      border-color: transparent;\n",
              "      border-bottom-color: var(--fill-color);\n",
              "    }\n",
              "  }\n",
              "</style>\n",
              "\n",
              "  <script>\n",
              "    async function quickchart(key) {\n",
              "      const quickchartButtonEl =\n",
              "        document.querySelector('#' + key + ' button');\n",
              "      quickchartButtonEl.disabled = true;  // To prevent multiple clicks.\n",
              "      quickchartButtonEl.classList.add('colab-df-spinner');\n",
              "      try {\n",
              "        const charts = await google.colab.kernel.invokeFunction(\n",
              "            'suggestCharts', [key], {});\n",
              "      } catch (error) {\n",
              "        console.error('Error during call to suggestCharts:', error);\n",
              "      }\n",
              "      quickchartButtonEl.classList.remove('colab-df-spinner');\n",
              "      quickchartButtonEl.classList.add('colab-df-quickchart-complete');\n",
              "    }\n",
              "    (() => {\n",
              "      let quickchartButtonEl =\n",
              "        document.querySelector('#df-04e737bd-d676-45d4-a102-f06027c4edf7 button');\n",
              "      quickchartButtonEl.style.display =\n",
              "        google.colab.kernel.accessAllowed ? 'block' : 'none';\n",
              "    })();\n",
              "  </script>\n",
              "</div>\n",
              "\n",
              "  <div id=\"id_d81c4455-5246-448a-a8de-814408a05a7d\">\n",
              "    <style>\n",
              "      .colab-df-generate {\n",
              "        background-color: #E8F0FE;\n",
              "        border: none;\n",
              "        border-radius: 50%;\n",
              "        cursor: pointer;\n",
              "        display: none;\n",
              "        fill: #1967D2;\n",
              "        height: 32px;\n",
              "        padding: 0 0 0 0;\n",
              "        width: 32px;\n",
              "      }\n",
              "\n",
              "      .colab-df-generate:hover {\n",
              "        background-color: #E2EBFA;\n",
              "        box-shadow: 0px 1px 2px rgba(60, 64, 67, 0.3), 0px 1px 3px 1px rgba(60, 64, 67, 0.15);\n",
              "        fill: #174EA6;\n",
              "      }\n",
              "\n",
              "      [theme=dark] .colab-df-generate {\n",
              "        background-color: #3B4455;\n",
              "        fill: #D2E3FC;\n",
              "      }\n",
              "\n",
              "      [theme=dark] .colab-df-generate:hover {\n",
              "        background-color: #434B5C;\n",
              "        box-shadow: 0px 1px 3px 1px rgba(0, 0, 0, 0.15);\n",
              "        filter: drop-shadow(0px 1px 2px rgba(0, 0, 0, 0.3));\n",
              "        fill: #FFFFFF;\n",
              "      }\n",
              "    </style>\n",
              "    <button class=\"colab-df-generate\" onclick=\"generateWithVariable('df2')\"\n",
              "            title=\"Generate code using this dataframe.\"\n",
              "            style=\"display:none;\">\n",
              "\n",
              "  <svg xmlns=\"http://www.w3.org/2000/svg\" height=\"24px\"viewBox=\"0 0 24 24\"\n",
              "       width=\"24px\">\n",
              "    <path d=\"M7,19H8.4L18.45,9,17,7.55,7,17.6ZM5,21V16.75L18.45,3.32a2,2,0,0,1,2.83,0l1.4,1.43a1.91,1.91,0,0,1,.58,1.4,1.91,1.91,0,0,1-.58,1.4L9.25,21ZM18.45,9,17,7.55Zm-12,3A5.31,5.31,0,0,0,4.9,8.1,5.31,5.31,0,0,0,1,6.5,5.31,5.31,0,0,0,4.9,4.9,5.31,5.31,0,0,0,6.5,1,5.31,5.31,0,0,0,8.1,4.9,5.31,5.31,0,0,0,12,6.5,5.46,5.46,0,0,0,6.5,12Z\"/>\n",
              "  </svg>\n",
              "    </button>\n",
              "    <script>\n",
              "      (() => {\n",
              "      const buttonEl =\n",
              "        document.querySelector('#id_d81c4455-5246-448a-a8de-814408a05a7d button.colab-df-generate');\n",
              "      buttonEl.style.display =\n",
              "        google.colab.kernel.accessAllowed ? 'block' : 'none';\n",
              "\n",
              "      buttonEl.onclick = () => {\n",
              "        google.colab.notebook.generateWithVariable('df2');\n",
              "      }\n",
              "      })();\n",
              "    </script>\n",
              "  </div>\n",
              "\n",
              "    </div>\n",
              "  </div>\n"
            ],
            "application/vnd.google.colaboratory.intrinsic+json": {
              "type": "dataframe",
              "variable_name": "df2",
              "summary": "{\n  \"name\": \"df2\",\n  \"rows\": 100,\n  \"fields\": [\n    {\n      \"column\": \"Name\",\n      \"properties\": {\n        \"dtype\": \"string\",\n        \"num_unique_values\": 50,\n        \"samples\": [\n          \"Mark Twain\",\n          \"J.D. Salinger\",\n          \"Stephenie Meyer\"\n        ],\n        \"semantic_type\": \"\",\n        \"description\": \"\"\n      }\n    },\n    {\n      \"column\": \"Born Info\",\n      \"properties\": {\n        \"dtype\": \"string\",\n        \"num_unique_values\": 50,\n        \"samples\": [\n          \"November 30, 1835 in Florida, Missouri, The United States\",\n          \"January 01, 1919 in Manhattan, New York, The United States\",\n          \"December 24, 1973 in Connecticut, The United States\"\n        ],\n        \"semantic_type\": \"\",\n        \"description\": \"\"\n      }\n    },\n    {\n      \"column\": \"Description\",\n      \"properties\": {\n        \"dtype\": \"string\",\n        \"num_unique_values\": 50,\n        \"samples\": [\n          \"Samuel Langhorne Clemens, better known by his pen name Mark Twain, was an American author and humorist. He is noted for his novels Adventures of Huckleberry Finn (1885), called \\\"the Great American Novel\\\", and The Adventures of Tom Sawyer (1876).Twain grew up in Hannibal, Missouri, which would later provide the setting for Huckleberry Finn and Tom Sawyer. He apprenticed with a printer. He also worked as a typesetter and contributed articles to his older brother Orion's newspaper. After toiling as a printer in various cities, he became a master riverboat pilot on the Mississippi River, before heading west to join Orion. He was a failure at gold mining, so he next turned to journalism. While a reporter, he wrote a humorous story, \\\"The Celebrated Jumping Frog of Calaveras County,\\\" which proved to be very popular and brought him nationwide attention. His travelogues were also well-received. Twain had found his calling.He achieved great success as a writer and public speaker. His wit and satire earned praise from critics and peers, and he was a friend to presidents, artists, industrialists, and European royalty.However, he lacked financial acumen. Though he made a great deal of money from his writings and lectures, he squandered it on various ventures, in particular the Paige Compositor, and was forced to declare bankruptcy. With the help of Henry Huttleston Rogers, however, he eventually overcame his financial troubles. Twain worked hard to ensure that all of his creditors were paid in full, even though his bankruptcy had relieved him of the legal responsibility.Born during a visit by Halley's Comet, he died on its return. He was lauded as the \\\"greatest American humorist of his age\\\", and William Faulkner called Twain \\\"the father of American literature\\\".Excerpted from Wikipedia.\",\n          \"Jerome David Salinger was an American author, best known for his 1951 novel The Catcher in the Rye, as well as his reclusive nature. His last original published work was in 1965; he gave his last interview in 1980. Raised in Manhattan, Salinger began writing short stories while in secondary school, and published several stories in the early 1940s before serving in World War II. In 1948 he published the critically acclaimed story \\\"A Perfect Day for Bananafish\\\" in The New Yorker magazine, which became home to much of his subsequent work. In 1951 Salinger released his novel The Catcher in the Rye, an immediate popular success. His depiction of adolescent alienation and loss of innocence in the protagonist Holden Caulfield was influential, especially among adolescent readers. The novel remains widely read and controversial, selling around 250,000 copies a year.The success of The Catcher in the Rye led to public attention and scrutiny: Salinger became reclusive, publishing new work less frequently. He followed Catcher with a short story collection, Nine Stories (1953), a collection of a novella and a short story, Franny and Zooey (1961), and a collection of two novellas, Raise High the Roof Beam, Carpenters and Seymour: An Introduction (1963). His last published work, a novella entitled \\\"Hapworth 16, 1924\\\", appeared in The New Yorker on June 19, 1965.Afterward, Salinger struggled with unwanted attention, including a legal battle in the 1980s with biographer Ian Hamilton and the release in the late 1990s of memoirs written by two people close to him: Joyce Maynard, an ex-lover; and Margaret Salinger, his daughter. In 1996, a small publisher announced a deal with Salinger to publish \\\"Hapworth 16, 1924\\\" in book form, but amid the ensuing publicity, the release was indefinitely delayed. He made headlines around the globe in June 2009, after filing a lawsuit against another writer for copyright infringement resulting from that writer's use of one of Salinger's characters from The Catcher in the Rye. Salinger died of natural causes on January 27, 2010, at his home in Cornish, New Hampshire.\",\n          \"I was born in Connecticut in 1973, during a brief blip in my family's otherwise western U.S. existence. We were settled in Phoenix by the time I was four, and I think of myself as a native. The unusual spelling of my name was a gift from my father, Stephen (+ ie = me). Though I have had my name spelled wrong on pretty much everything my entire life long, I must admit that it makes it easier to google myself now.I filled the \\\"Jan Brady\\\" spot in my family-the second of three girls. Unlike the Brady's, none of my three brothers are steps, and all of them are younger than all the girls. I went to high school in Scottsdale, Arizona, the kind of place where every fall a few girls would come back to school with new noses and there were Porsches in the student lot (for the record, I have my original nose, and never had a car until after I was in my twenties). I was awarded a National Merit Scholarship, and I used it to pay my way to Brigham Young University, in Provo, Utah. I majored in English, but concentrated on literature rather than creative writing, mostly because I didn't consider reading books \\\"work\\\" (as long as I was going to be doing something anyway, I might as well get course credit for it, right?).I met my husband, Pancho (his real name is Christiaan), when I was four, but we were never anywhere close to being childhood sweethearts. In fact, though we saw each other at least weekly through church activities, I can't recall a single instance when we so much as greeted each other with a friendly wave, let alone exchanged actual words. This may have been for the best, because when we did eventually get around to exchanging words, sixteen years after our first meeting, it only took nine months from the first \\\"hello\\\" to the wedding. Of course, we were able to skip over a lot of the getting to know you parts (many of our conversations would go something like this: \\\"This one time, when I was ten, I broke my hand at a party when-\\\" \\\"Yeah, I know what happened. I was there, remember?\\\") We've been married for ten and a half years now, and have three beautiful, brilliant, wonderful boys who often remind me chimpanzees on crack. I can't write without music, and my biggest muse is, ironically enough, the band Muse. My other favorite sources of inspiration are Linkin Park, My Chemical Romance, Coldplay, The All American Rejects, Travis, The Strokes, Brand New, U2, Kasabian, Jimmy Eat World, and Weezer, to mention a few.\"\n        ],\n        \"semantic_type\": \"\",\n        \"description\": \"\"\n      }\n    },\n    {\n      \"column\": \"Quote\",\n      \"properties\": {\n        \"dtype\": \"string\",\n        \"num_unique_values\": 100,\n        \"samples\": [\n          \"\\u201cI declare after all there is no enjoyment like reading! How much sooner one tires of any thing than of a book! -- When I have a house of my own, I shall be miserable if I have not an excellent library.\\u201d\",\n          \"\\u201cIf I were not a physicist, I would probably be a musician. I often think in music. I live my daydreams in music. I see my life in terms of music.\\u201d\",\n          \"\\u201cIf I had a flower for every time I thought of you...I could walk through my garden forever.\\u201d\"\n        ],\n        \"semantic_type\": \"\",\n        \"description\": \"\"\n      }\n    },\n    {\n      \"column\": \"Tags\",\n      \"properties\": {\n        \"dtype\": \"string\",\n        \"num_unique_values\": 84,\n        \"samples\": [\n          \"god \",\n          \"change deep-thoughts thinking world \",\n          \"education \"\n        ],\n        \"semantic_type\": \"\",\n        \"description\": \"\"\n      }\n    }\n  ]\n}"
            }
          },
          "metadata": {},
          "execution_count": 45
        }
      ]
    },
    {
      "cell_type": "code",
      "source": [],
      "metadata": {
        "id": "cUliVbrA_L0K"
      },
      "execution_count": 45,
      "outputs": []
    }
  ]
}